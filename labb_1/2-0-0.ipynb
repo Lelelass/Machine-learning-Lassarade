{
 "cells": [
  {
   "cell_type": "code",
   "execution_count": 3,
   "metadata": {},
   "outputs": [],
   "source": [
    "import pandas as pd\n",
    "import matplotlib.pyplot as plt\n",
    "import seaborn as sns\n",
    "\n",
    "df_cardio = pd.read_csv('./data/cardio_train.csv', sep = ';')\n",
    "df_cardio = df_cardio.set_index('id')\n"
   ]
  },
  {
   "cell_type": "code",
   "execution_count": 4,
   "metadata": {},
   "outputs": [
    {
     "data": {
      "text/plain": [
       "(-70, -150, 11000, 16020)"
      ]
     },
     "execution_count": 4,
     "metadata": {},
     "output_type": "execute_result"
    }
   ],
   "source": [
    "df_cardio['ap_lo'].min(), df_cardio['ap_hi'].min(), df_cardio['ap_lo'].max(), df_cardio['ap_hi'].max()"
   ]
  },
  {
   "cell_type": "markdown",
   "metadata": {},
   "source": [
    "## Metrics overview\n",
    "- ap_hi is Systolic blood pressure. Normal 120 or little below, max 200, considered low under 90. Hard to find realistic lowest viable value, maybe 60 ? In some extreme case some humans can survive up to 300.\n",
    "- ap_lo Diastolic blood pressure Normal 80,  Max 140, considered low under 60 unrealistic under 40 ?\n",
    "- height 251 max"
   ]
  },
  {
   "cell_type": "code",
   "execution_count": 5,
   "metadata": {},
   "outputs": [
    {
     "data": {
      "text/plain": [
       "(29.583561643835615, 64.96712328767123)"
      ]
     },
     "execution_count": 5,
     "metadata": {},
     "output_type": "execute_result"
    }
   ],
   "source": [
    "df_cardio['age_years'] = df_cardio['age'].apply(lambda x : x/365)\n",
    "df_cardio['age_years'].min(), df_cardio['age_years'].max()\n",
    "#Age range seems all good"
   ]
  },
  {
   "cell_type": "code",
   "execution_count": 6,
   "metadata": {},
   "outputs": [
    {
     "name": "stdout",
     "output_type": "stream",
     "text": [
      "<class 'pandas.core.frame.DataFrame'>\n",
      "Int64Index: 68749 entries, 0 to 99999\n",
      "Data columns (total 13 columns):\n",
      " #   Column       Non-Null Count  Dtype  \n",
      "---  ------       --------------  -----  \n",
      " 0   age          68749 non-null  int64  \n",
      " 1   gender       68749 non-null  int64  \n",
      " 2   height       68749 non-null  int64  \n",
      " 3   weight       68749 non-null  float64\n",
      " 4   ap_hi        68749 non-null  int64  \n",
      " 5   ap_lo        68749 non-null  int64  \n",
      " 6   cholesterol  68749 non-null  int64  \n",
      " 7   gluc         68749 non-null  int64  \n",
      " 8   smoke        68749 non-null  int64  \n",
      " 9   alco         68749 non-null  int64  \n",
      " 10  active       68749 non-null  int64  \n",
      " 11  cardio       68749 non-null  int64  \n",
      " 12  age_years    68749 non-null  float64\n",
      "dtypes: float64(2), int64(11)\n",
      "memory usage: 7.3 MB\n"
     ]
    }
   ],
   "source": [
    "data_filters = ['ap_hi > 300 or ap_hi < 60 ', 'height < 80', 'weight < 30', 'ap_lo > 200 or ap_lo < 40']\n",
    "for condition in data_filters:\n",
    "    df_cardio.drop(df_cardio.query(condition).index, axis=0, inplace = True)\n",
    "\n",
    "df_cardio.info()\n"
   ]
  },
  {
   "cell_type": "markdown",
   "metadata": {},
   "source": [
    "### a)"
   ]
  },
  {
   "cell_type": "code",
   "execution_count": 7,
   "metadata": {},
   "outputs": [
    {
     "name": "stdout",
     "output_type": "stream",
     "text": [
      "In the dataset, 34027 people suffer from an heart condition, and 34722 don't\n"
     ]
    }
   ],
   "source": [
    "cardio_count = df_cardio['cardio'].value_counts()\n",
    "print(f\"In the dataset, {cardio_count[1]} people suffer from an heart condition, and {cardio_count[0]} don't\")\n"
   ]
  },
  {
   "cell_type": "markdown",
   "metadata": {},
   "source": [
    "### b)"
   ]
  },
  {
   "cell_type": "code",
   "execution_count": 8,
   "metadata": {},
   "outputs": [
    {
     "data": {
      "text/plain": [
       "<AxesSubplot:ylabel='cholesterol'>"
      ]
     },
     "execution_count": 8,
     "metadata": {},
     "output_type": "execute_result"
    },
    {
     "data": {
      "image/png": "[encoded data removed]",
      "text/plain": [
       "<Figure size 432x288 with 1 Axes>"
      ]
     },
     "metadata": {},
     "output_type": "display_data"
    }
   ],
   "source": [
    "import numpy as np\n",
    "\n",
    "labels = ['normal', 'above normal', 'well above normal']\n",
    "chol_count = df_cardio['cholesterol'].value_counts()\n",
    "\n",
    "def absolute_value(val): #https://stackoverflow.com/questions/41088236/how-to-have-actual-values-in-matplotlib-pie-chart-displayed\n",
    "    a  = np.round(val/100.*chol_count.sum(), 0)\n",
    "    return a\n",
    "\n",
    "\n",
    "chol_count.plot.pie(labels = labels,  autopct=absolute_value)"
   ]
  },
  {
   "cell_type": "code",
   "execution_count": 9,
   "metadata": {},
   "outputs": [
    {
     "data": {
      "text/plain": [
       "<AxesSubplot:xlabel='age_years', ylabel='Count'>"
      ]
     },
     "execution_count": 9,
     "metadata": {},
     "output_type": "execute_result"
    },
    {
     "data": {
      "image/png": "[encoded data removed]",
      "text/plain": [
       "<Figure size 432x288 with 1 Axes>"
      ]
     },
     "metadata": {
      "needs_background": "light"
     },
     "output_type": "display_data"
    }
   ],
   "source": [
    "#Round age years\n",
    "sns.histplot(x = df_cardio['age_years'])"
   ]
  },
  {
   "cell_type": "code",
   "execution_count": 10,
   "metadata": {},
   "outputs": [
    {
     "data": {
      "text/plain": [
       "([<matplotlib.patches.Wedge at 0x7feaad7f0610>,\n",
       "  <matplotlib.patches.Wedge at 0x7feaad7f0d30>],\n",
       " [Text(-1.058229258517367, 0.30025128878621643, 'non-smoker'),\n",
       "  Text(1.058229286628917, -0.3002511897076411, 'smoker')],\n",
       " [Text(-0.577215959191291, 0.16377343024702715, '91%'),\n",
       "  Text(0.5772159745248636, -0.16377337620416785, '9%')])"
      ]
     },
     "execution_count": 10,
     "metadata": {},
     "output_type": "execute_result"
    },
    {
     "data": {
      "image/png": "[encoded data removed]",
      "text/plain": [
       "<Figure size 432x288 with 1 Axes>"
      ]
     },
     "metadata": {},
     "output_type": "display_data"
    }
   ],
   "source": [
    "smoke = ['non-smoker', 'smoker']\n",
    "plt.pie(df_cardio['smoke'].value_counts(), labels = smoke, autopct='%.0f%%')"
   ]
  },
  {
   "cell_type": "markdown",
   "metadata": {},
   "source": [
    "## 2.1.0 BMI"
   ]
  },
  {
   "cell_type": "code",
   "execution_count": 11,
   "metadata": {},
   "outputs": [],
   "source": [
    "#BMI = kg/m2\n",
    "df_cardio['BMI'] = df_cardio.apply(lambda row : 1.3 * (row.weight / (row.height /100)**2.5), axis =1)#new BMI"
   ]
  },
  {
   "cell_type": "code",
   "execution_count": 12,
   "metadata": {},
   "outputs": [
    {
     "data": {
      "text/plain": [
       "count    68749.000000\n",
       "mean        27.928433\n",
       "std          6.102628\n",
       "min         10.695048\n",
       "25%         24.129455\n",
       "50%         26.652099\n",
       "75%         30.705138\n",
       "max        404.239164\n",
       "Name: BMI, dtype: float64"
      ]
     },
     "execution_count": 12,
     "metadata": {},
     "output_type": "execute_result"
    }
   ],
   "source": [
    "df_cardio['BMI'].describe()"
   ]
  },
  {
   "cell_type": "code",
   "execution_count": 13,
   "metadata": {},
   "outputs": [
    {
     "data": {
      "text/plain": [
       "(68458, 14)"
      ]
     },
     "execution_count": 13,
     "metadata": {},
     "output_type": "execute_result"
    }
   ],
   "source": [
    "df_cardio.drop(df_cardio.query('BMI > 50 or BMI <12').index, axis=0, inplace = True)\n",
    "df_cardio.shape\n"
   ]
  },
  {
   "cell_type": "code",
   "execution_count": 14,
   "metadata": {},
   "outputs": [
    {
     "data": {
      "text/html": [
       "<div>\n",
       "<style scoped>\n",
       "    .dataframe tbody tr th:only-of-type {\n",
       "        vertical-align: middle;\n",
       "    }\n",
       "\n",
       "    .dataframe tbody tr th {\n",
       "        vertical-align: top;\n",
       "    }\n",
       "\n",
       "    .dataframe thead th {\n",
       "        text-align: right;\n",
       "    }\n",
       "</style>\n",
       "<table border=\"1\" class=\"dataframe\">\n",
       "  <thead>\n",
       "    <tr style=\"text-align: right;\">\n",
       "      <th></th>\n",
       "      <th>age</th>\n",
       "      <th>gender</th>\n",
       "      <th>height</th>\n",
       "      <th>weight</th>\n",
       "      <th>ap_hi</th>\n",
       "      <th>ap_lo</th>\n",
       "      <th>cholesterol</th>\n",
       "      <th>gluc</th>\n",
       "      <th>smoke</th>\n",
       "      <th>alco</th>\n",
       "      <th>active</th>\n",
       "      <th>cardio</th>\n",
       "      <th>age_years</th>\n",
       "      <th>BMI</th>\n",
       "      <th>BMI_cat</th>\n",
       "    </tr>\n",
       "    <tr>\n",
       "      <th>id</th>\n",
       "      <th></th>\n",
       "      <th></th>\n",
       "      <th></th>\n",
       "      <th></th>\n",
       "      <th></th>\n",
       "      <th></th>\n",
       "      <th></th>\n",
       "      <th></th>\n",
       "      <th></th>\n",
       "      <th></th>\n",
       "      <th></th>\n",
       "      <th></th>\n",
       "      <th></th>\n",
       "      <th></th>\n",
       "      <th></th>\n",
       "    </tr>\n",
       "  </thead>\n",
       "  <tbody>\n",
       "    <tr>\n",
       "      <th>0</th>\n",
       "      <td>18393</td>\n",
       "      <td>2</td>\n",
       "      <td>168</td>\n",
       "      <td>62.0</td>\n",
       "      <td>110</td>\n",
       "      <td>80</td>\n",
       "      <td>1</td>\n",
       "      <td>1</td>\n",
       "      <td>0</td>\n",
       "      <td>0</td>\n",
       "      <td>1</td>\n",
       "      <td>0</td>\n",
       "      <td>50.391781</td>\n",
       "      <td>22.032402</td>\n",
       "      <td>2</td>\n",
       "    </tr>\n",
       "    <tr>\n",
       "      <th>1</th>\n",
       "      <td>20228</td>\n",
       "      <td>1</td>\n",
       "      <td>156</td>\n",
       "      <td>85.0</td>\n",
       "      <td>140</td>\n",
       "      <td>90</td>\n",
       "      <td>3</td>\n",
       "      <td>1</td>\n",
       "      <td>0</td>\n",
       "      <td>0</td>\n",
       "      <td>1</td>\n",
       "      <td>1</td>\n",
       "      <td>55.419178</td>\n",
       "      <td>36.353881</td>\n",
       "      <td>5</td>\n",
       "    </tr>\n",
       "    <tr>\n",
       "      <th>2</th>\n",
       "      <td>18857</td>\n",
       "      <td>1</td>\n",
       "      <td>165</td>\n",
       "      <td>64.0</td>\n",
       "      <td>130</td>\n",
       "      <td>70</td>\n",
       "      <td>3</td>\n",
       "      <td>1</td>\n",
       "      <td>0</td>\n",
       "      <td>0</td>\n",
       "      <td>0</td>\n",
       "      <td>1</td>\n",
       "      <td>51.663014</td>\n",
       "      <td>23.791042</td>\n",
       "      <td>2</td>\n",
       "    </tr>\n",
       "    <tr>\n",
       "      <th>3</th>\n",
       "      <td>17623</td>\n",
       "      <td>2</td>\n",
       "      <td>169</td>\n",
       "      <td>82.0</td>\n",
       "      <td>150</td>\n",
       "      <td>100</td>\n",
       "      <td>1</td>\n",
       "      <td>1</td>\n",
       "      <td>0</td>\n",
       "      <td>0</td>\n",
       "      <td>1</td>\n",
       "      <td>1</td>\n",
       "      <td>48.282192</td>\n",
       "      <td>28.710479</td>\n",
       "      <td>3</td>\n",
       "    </tr>\n",
       "    <tr>\n",
       "      <th>4</th>\n",
       "      <td>17474</td>\n",
       "      <td>1</td>\n",
       "      <td>156</td>\n",
       "      <td>56.0</td>\n",
       "      <td>100</td>\n",
       "      <td>60</td>\n",
       "      <td>1</td>\n",
       "      <td>1</td>\n",
       "      <td>0</td>\n",
       "      <td>0</td>\n",
       "      <td>0</td>\n",
       "      <td>0</td>\n",
       "      <td>47.873973</td>\n",
       "      <td>23.950792</td>\n",
       "      <td>2</td>\n",
       "    </tr>\n",
       "    <tr>\n",
       "      <th>...</th>\n",
       "      <td>...</td>\n",
       "      <td>...</td>\n",
       "      <td>...</td>\n",
       "      <td>...</td>\n",
       "      <td>...</td>\n",
       "      <td>...</td>\n",
       "      <td>...</td>\n",
       "      <td>...</td>\n",
       "      <td>...</td>\n",
       "      <td>...</td>\n",
       "      <td>...</td>\n",
       "      <td>...</td>\n",
       "      <td>...</td>\n",
       "      <td>...</td>\n",
       "      <td>...</td>\n",
       "    </tr>\n",
       "    <tr>\n",
       "      <th>99992</th>\n",
       "      <td>21074</td>\n",
       "      <td>1</td>\n",
       "      <td>165</td>\n",
       "      <td>80.0</td>\n",
       "      <td>150</td>\n",
       "      <td>80</td>\n",
       "      <td>1</td>\n",
       "      <td>1</td>\n",
       "      <td>0</td>\n",
       "      <td>0</td>\n",
       "      <td>1</td>\n",
       "      <td>1</td>\n",
       "      <td>57.736986</td>\n",
       "      <td>29.738803</td>\n",
       "      <td>3</td>\n",
       "    </tr>\n",
       "    <tr>\n",
       "      <th>99993</th>\n",
       "      <td>19240</td>\n",
       "      <td>2</td>\n",
       "      <td>168</td>\n",
       "      <td>76.0</td>\n",
       "      <td>120</td>\n",
       "      <td>80</td>\n",
       "      <td>1</td>\n",
       "      <td>1</td>\n",
       "      <td>1</td>\n",
       "      <td>0</td>\n",
       "      <td>1</td>\n",
       "      <td>0</td>\n",
       "      <td>52.712329</td>\n",
       "      <td>27.007460</td>\n",
       "      <td>3</td>\n",
       "    </tr>\n",
       "    <tr>\n",
       "      <th>99996</th>\n",
       "      <td>19066</td>\n",
       "      <td>2</td>\n",
       "      <td>183</td>\n",
       "      <td>105.0</td>\n",
       "      <td>180</td>\n",
       "      <td>90</td>\n",
       "      <td>3</td>\n",
       "      <td>1</td>\n",
       "      <td>0</td>\n",
       "      <td>1</td>\n",
       "      <td>0</td>\n",
       "      <td>1</td>\n",
       "      <td>52.235616</td>\n",
       "      <td>30.130402</td>\n",
       "      <td>4</td>\n",
       "    </tr>\n",
       "    <tr>\n",
       "      <th>99998</th>\n",
       "      <td>22431</td>\n",
       "      <td>1</td>\n",
       "      <td>163</td>\n",
       "      <td>72.0</td>\n",
       "      <td>135</td>\n",
       "      <td>80</td>\n",
       "      <td>1</td>\n",
       "      <td>2</td>\n",
       "      <td>0</td>\n",
       "      <td>0</td>\n",
       "      <td>0</td>\n",
       "      <td>1</td>\n",
       "      <td>61.454795</td>\n",
       "      <td>27.593503</td>\n",
       "      <td>3</td>\n",
       "    </tr>\n",
       "    <tr>\n",
       "      <th>99999</th>\n",
       "      <td>20540</td>\n",
       "      <td>1</td>\n",
       "      <td>170</td>\n",
       "      <td>72.0</td>\n",
       "      <td>120</td>\n",
       "      <td>80</td>\n",
       "      <td>2</td>\n",
       "      <td>1</td>\n",
       "      <td>0</td>\n",
       "      <td>0</td>\n",
       "      <td>1</td>\n",
       "      <td>0</td>\n",
       "      <td>56.273973</td>\n",
       "      <td>24.840112</td>\n",
       "      <td>2</td>\n",
       "    </tr>\n",
       "  </tbody>\n",
       "</table>\n",
       "<p>68458 rows × 15 columns</p>\n",
       "</div>"
      ],
      "text/plain": [
       "         age  gender  height  weight  ap_hi  ap_lo  cholesterol  gluc  smoke  \\\n",
       "id                                                                             \n",
       "0      18393       2     168    62.0    110     80            1     1      0   \n",
       "1      20228       1     156    85.0    140     90            3     1      0   \n",
       "2      18857       1     165    64.0    130     70            3     1      0   \n",
       "3      17623       2     169    82.0    150    100            1     1      0   \n",
       "4      17474       1     156    56.0    100     60            1     1      0   \n",
       "...      ...     ...     ...     ...    ...    ...          ...   ...    ...   \n",
       "99992  21074       1     165    80.0    150     80            1     1      0   \n",
       "99993  19240       2     168    76.0    120     80            1     1      1   \n",
       "99996  19066       2     183   105.0    180     90            3     1      0   \n",
       "99998  22431       1     163    72.0    135     80            1     2      0   \n",
       "99999  20540       1     170    72.0    120     80            2     1      0   \n",
       "\n",
       "       alco  active  cardio  age_years        BMI  BMI_cat  \n",
       "id                                                          \n",
       "0         0       1       0  50.391781  22.032402        2  \n",
       "1         0       1       1  55.419178  36.353881        5  \n",
       "2         0       0       1  51.663014  23.791042        2  \n",
       "3         0       1       1  48.282192  28.710479        3  \n",
       "4         0       0       0  47.873973  23.950792        2  \n",
       "...     ...     ...     ...        ...        ...      ...  \n",
       "99992     0       1       1  57.736986  29.738803        3  \n",
       "99993     0       1       0  52.712329  27.007460        3  \n",
       "99996     1       0       1  52.235616  30.130402        4  \n",
       "99998     0       0       1  61.454795  27.593503        3  \n",
       "99999     0       1       0  56.273973  24.840112        2  \n",
       "\n",
       "[68458 rows x 15 columns]"
      ]
     },
     "execution_count": 14,
     "metadata": {},
     "output_type": "execute_result"
    }
   ],
   "source": [
    "#BMI = kg/m2\n",
    "#bmi_intervals = {\"underweight\": (0,18.4), \"normal\" :(18.5,24.9), \"over\":(25,29.9), \"obese\":(30)}\n",
    "\n",
    "def bmi_cat(bmi):\n",
    "    if bmi <18.5:\n",
    "        cat = 1\n",
    "    elif 18.5 <= bmi < 25:\n",
    "        cat = 2\n",
    "    elif 25 <= bmi < 30:\n",
    "        cat = 3\n",
    "    elif 30 <= bmi < 35:\n",
    "        cat = 4\n",
    "    elif 35 <= bmi < 40:\n",
    "        cat = 5\n",
    "    else:\n",
    "        cat = 6 \n",
    "    return cat\n",
    "\n",
    "df_cardio['BMI_cat'] = df_cardio.apply(lambda row : bmi_cat(row.BMI), axis = 1)\n",
    "df_cardio"
   ]
  },
  {
   "cell_type": "code",
   "execution_count": 15,
   "metadata": {},
   "outputs": [
    {
     "name": "stderr",
     "output_type": "stream",
     "text": [
      "/Users/leolassarade/miniconda3/envs/ML-ll/lib/python3.9/site-packages/seaborn/_decorators.py:36: FutureWarning: Pass the following variable as a keyword arg: x. From version 0.12, the only valid positional argument will be `data`, and passing other arguments without an explicit keyword will result in an error or misinterpretation.\n",
      "  warnings.warn(\n"
     ]
    },
    {
     "data": {
      "text/plain": [
       "<AxesSubplot:xlabel='BMI_cat', ylabel='count'>"
      ]
     },
     "execution_count": 15,
     "metadata": {},
     "output_type": "execute_result"
    },
    {
     "data": {
      "image/png": "[encoded data removed]",
      "text/plain": [
       "<Figure size 432x288 with 1 Axes>"
      ]
     },
     "metadata": {
      "needs_background": "light"
     },
     "output_type": "display_data"
    }
   ],
   "source": [
    "sns.countplot(df_cardio['BMI_cat'])"
   ]
  },
  {
   "cell_type": "code",
   "execution_count": 16,
   "metadata": {},
   "outputs": [
    {
     "data": {
      "text/html": [
       "<div>\n",
       "<style scoped>\n",
       "    .dataframe tbody tr th:only-of-type {\n",
       "        vertical-align: middle;\n",
       "    }\n",
       "\n",
       "    .dataframe tbody tr th {\n",
       "        vertical-align: top;\n",
       "    }\n",
       "\n",
       "    .dataframe thead th {\n",
       "        text-align: right;\n",
       "    }\n",
       "</style>\n",
       "<table border=\"1\" class=\"dataframe\">\n",
       "  <thead>\n",
       "    <tr style=\"text-align: right;\">\n",
       "      <th></th>\n",
       "      <th>age</th>\n",
       "      <th>gender</th>\n",
       "      <th>height</th>\n",
       "      <th>weight</th>\n",
       "      <th>ap_hi</th>\n",
       "      <th>ap_lo</th>\n",
       "      <th>cholesterol</th>\n",
       "      <th>gluc</th>\n",
       "      <th>smoke</th>\n",
       "      <th>alco</th>\n",
       "      <th>active</th>\n",
       "      <th>cardio</th>\n",
       "      <th>age_years</th>\n",
       "      <th>BMI</th>\n",
       "      <th>BMI_cat</th>\n",
       "    </tr>\n",
       "    <tr>\n",
       "      <th>id</th>\n",
       "      <th></th>\n",
       "      <th></th>\n",
       "      <th></th>\n",
       "      <th></th>\n",
       "      <th></th>\n",
       "      <th></th>\n",
       "      <th></th>\n",
       "      <th></th>\n",
       "      <th></th>\n",
       "      <th></th>\n",
       "      <th></th>\n",
       "      <th></th>\n",
       "      <th></th>\n",
       "      <th></th>\n",
       "      <th></th>\n",
       "    </tr>\n",
       "  </thead>\n",
       "  <tbody>\n",
       "    <tr>\n",
       "      <th>42</th>\n",
       "      <td>18291</td>\n",
       "      <td>1</td>\n",
       "      <td>155</td>\n",
       "      <td>105.0</td>\n",
       "      <td>120</td>\n",
       "      <td>80</td>\n",
       "      <td>3</td>\n",
       "      <td>1</td>\n",
       "      <td>0</td>\n",
       "      <td>0</td>\n",
       "      <td>1</td>\n",
       "      <td>1</td>\n",
       "      <td>50.112329</td>\n",
       "      <td>45.635562</td>\n",
       "      <td>6</td>\n",
       "    </tr>\n",
       "    <tr>\n",
       "      <th>61</th>\n",
       "      <td>18207</td>\n",
       "      <td>1</td>\n",
       "      <td>162</td>\n",
       "      <td>107.0</td>\n",
       "      <td>150</td>\n",
       "      <td>90</td>\n",
       "      <td>2</td>\n",
       "      <td>1</td>\n",
       "      <td>0</td>\n",
       "      <td>0</td>\n",
       "      <td>1</td>\n",
       "      <td>1</td>\n",
       "      <td>49.882192</td>\n",
       "      <td>41.642768</td>\n",
       "      <td>6</td>\n",
       "    </tr>\n",
       "    <tr>\n",
       "      <th>121</th>\n",
       "      <td>23204</td>\n",
       "      <td>1</td>\n",
       "      <td>151</td>\n",
       "      <td>92.0</td>\n",
       "      <td>130</td>\n",
       "      <td>90</td>\n",
       "      <td>1</td>\n",
       "      <td>1</td>\n",
       "      <td>0</td>\n",
       "      <td>0</td>\n",
       "      <td>0</td>\n",
       "      <td>1</td>\n",
       "      <td>63.572603</td>\n",
       "      <td>42.686329</td>\n",
       "      <td>6</td>\n",
       "    </tr>\n",
       "    <tr>\n",
       "      <th>291</th>\n",
       "      <td>22570</td>\n",
       "      <td>1</td>\n",
       "      <td>162</td>\n",
       "      <td>105.0</td>\n",
       "      <td>140</td>\n",
       "      <td>90</td>\n",
       "      <td>3</td>\n",
       "      <td>1</td>\n",
       "      <td>0</td>\n",
       "      <td>0</td>\n",
       "      <td>0</td>\n",
       "      <td>1</td>\n",
       "      <td>61.835616</td>\n",
       "      <td>40.864399</td>\n",
       "      <td>6</td>\n",
       "    </tr>\n",
       "    <tr>\n",
       "      <th>358</th>\n",
       "      <td>21059</td>\n",
       "      <td>1</td>\n",
       "      <td>154</td>\n",
       "      <td>98.0</td>\n",
       "      <td>140</td>\n",
       "      <td>90</td>\n",
       "      <td>2</td>\n",
       "      <td>1</td>\n",
       "      <td>0</td>\n",
       "      <td>0</td>\n",
       "      <td>1</td>\n",
       "      <td>0</td>\n",
       "      <td>57.695890</td>\n",
       "      <td>43.288010</td>\n",
       "      <td>6</td>\n",
       "    </tr>\n",
       "    <tr>\n",
       "      <th>...</th>\n",
       "      <td>...</td>\n",
       "      <td>...</td>\n",
       "      <td>...</td>\n",
       "      <td>...</td>\n",
       "      <td>...</td>\n",
       "      <td>...</td>\n",
       "      <td>...</td>\n",
       "      <td>...</td>\n",
       "      <td>...</td>\n",
       "      <td>...</td>\n",
       "      <td>...</td>\n",
       "      <td>...</td>\n",
       "      <td>...</td>\n",
       "      <td>...</td>\n",
       "      <td>...</td>\n",
       "    </tr>\n",
       "    <tr>\n",
       "      <th>99140</th>\n",
       "      <td>18435</td>\n",
       "      <td>1</td>\n",
       "      <td>156</td>\n",
       "      <td>99.9</td>\n",
       "      <td>120</td>\n",
       "      <td>80</td>\n",
       "      <td>1</td>\n",
       "      <td>1</td>\n",
       "      <td>0</td>\n",
       "      <td>0</td>\n",
       "      <td>1</td>\n",
       "      <td>0</td>\n",
       "      <td>50.506849</td>\n",
       "      <td>42.726503</td>\n",
       "      <td>6</td>\n",
       "    </tr>\n",
       "    <tr>\n",
       "      <th>99354</th>\n",
       "      <td>14617</td>\n",
       "      <td>1</td>\n",
       "      <td>161</td>\n",
       "      <td>105.0</td>\n",
       "      <td>120</td>\n",
       "      <td>80</td>\n",
       "      <td>1</td>\n",
       "      <td>1</td>\n",
       "      <td>0</td>\n",
       "      <td>0</td>\n",
       "      <td>1</td>\n",
       "      <td>1</td>\n",
       "      <td>40.046575</td>\n",
       "      <td>41.501898</td>\n",
       "      <td>6</td>\n",
       "    </tr>\n",
       "    <tr>\n",
       "      <th>99399</th>\n",
       "      <td>18864</td>\n",
       "      <td>1</td>\n",
       "      <td>155</td>\n",
       "      <td>101.0</td>\n",
       "      <td>140</td>\n",
       "      <td>80</td>\n",
       "      <td>3</td>\n",
       "      <td>2</td>\n",
       "      <td>0</td>\n",
       "      <td>0</td>\n",
       "      <td>1</td>\n",
       "      <td>1</td>\n",
       "      <td>51.682192</td>\n",
       "      <td>43.897065</td>\n",
       "      <td>6</td>\n",
       "    </tr>\n",
       "    <tr>\n",
       "      <th>99925</th>\n",
       "      <td>21333</td>\n",
       "      <td>1</td>\n",
       "      <td>164</td>\n",
       "      <td>115.0</td>\n",
       "      <td>130</td>\n",
       "      <td>80</td>\n",
       "      <td>1</td>\n",
       "      <td>1</td>\n",
       "      <td>0</td>\n",
       "      <td>0</td>\n",
       "      <td>1</td>\n",
       "      <td>1</td>\n",
       "      <td>58.446575</td>\n",
       "      <td>43.404182</td>\n",
       "      <td>6</td>\n",
       "    </tr>\n",
       "    <tr>\n",
       "      <th>99977</th>\n",
       "      <td>18194</td>\n",
       "      <td>1</td>\n",
       "      <td>156</td>\n",
       "      <td>102.0</td>\n",
       "      <td>130</td>\n",
       "      <td>80</td>\n",
       "      <td>1</td>\n",
       "      <td>1</td>\n",
       "      <td>0</td>\n",
       "      <td>1</td>\n",
       "      <td>0</td>\n",
       "      <td>1</td>\n",
       "      <td>49.846575</td>\n",
       "      <td>43.624657</td>\n",
       "      <td>6</td>\n",
       "    </tr>\n",
       "  </tbody>\n",
       "</table>\n",
       "<p>2076 rows × 15 columns</p>\n",
       "</div>"
      ],
      "text/plain": [
       "         age  gender  height  weight  ap_hi  ap_lo  cholesterol  gluc  smoke  \\\n",
       "id                                                                             \n",
       "42     18291       1     155   105.0    120     80            3     1      0   \n",
       "61     18207       1     162   107.0    150     90            2     1      0   \n",
       "121    23204       1     151    92.0    130     90            1     1      0   \n",
       "291    22570       1     162   105.0    140     90            3     1      0   \n",
       "358    21059       1     154    98.0    140     90            2     1      0   \n",
       "...      ...     ...     ...     ...    ...    ...          ...   ...    ...   \n",
       "99140  18435       1     156    99.9    120     80            1     1      0   \n",
       "99354  14617       1     161   105.0    120     80            1     1      0   \n",
       "99399  18864       1     155   101.0    140     80            3     2      0   \n",
       "99925  21333       1     164   115.0    130     80            1     1      0   \n",
       "99977  18194       1     156   102.0    130     80            1     1      0   \n",
       "\n",
       "       alco  active  cardio  age_years        BMI  BMI_cat  \n",
       "id                                                          \n",
       "42        0       1       1  50.112329  45.635562        6  \n",
       "61        0       1       1  49.882192  41.642768        6  \n",
       "121       0       0       1  63.572603  42.686329        6  \n",
       "291       0       0       1  61.835616  40.864399        6  \n",
       "358       0       1       0  57.695890  43.288010        6  \n",
       "...     ...     ...     ...        ...        ...      ...  \n",
       "99140     0       1       0  50.506849  42.726503        6  \n",
       "99354     0       1       1  40.046575  41.501898        6  \n",
       "99399     0       1       1  51.682192  43.897065        6  \n",
       "99925     0       1       1  58.446575  43.404182        6  \n",
       "99977     1       0       1  49.846575  43.624657        6  \n",
       "\n",
       "[2076 rows x 15 columns]"
      ]
     },
     "execution_count": 16,
     "metadata": {},
     "output_type": "execute_result"
    }
   ],
   "source": [
    "df_cardio.query('BMI_cat == 6')"
   ]
  },
  {
   "cell_type": "code",
   "execution_count": 17,
   "metadata": {},
   "outputs": [],
   "source": [
    "def blood_pressure_cat(syst, diast):\n",
    "    if syst <120 and diast <80:\n",
    "        cat = 1\n",
    "    elif 120 <= syst <130 and diast <80:\n",
    "        cat = 2\n",
    "    elif 130<= syst <140 or 80 <= diast <90:\n",
    "        cat = 3\n",
    "    elif syst >=140 or diast >=90:\n",
    "        cat = 4\n",
    "    else:\n",
    "        cat = 5\n",
    "    return cat"
   ]
  },
  {
   "cell_type": "code",
   "execution_count": 18,
   "metadata": {},
   "outputs": [
    {
     "data": {
      "text/plain": [
       "<AxesSubplot:xlabel='BP_cat', ylabel='count'>"
      ]
     },
     "execution_count": 18,
     "metadata": {},
     "output_type": "execute_result"
    },
    {
     "data": {
      "image/png": "[encoded data removed]",
      "text/plain": [
       "<Figure size 432x288 with 1 Axes>"
      ]
     },
     "metadata": {
      "needs_background": "light"
     },
     "output_type": "display_data"
    }
   ],
   "source": [
    "df_cardio['BP_cat'] = df_cardio.apply(lambda row : blood_pressure_cat(row.ap_hi, row.ap_lo), axis = 1)\n",
    "sns.countplot(data = df_cardio, x= 'BP_cat')\n"
   ]
  },
  {
   "cell_type": "markdown",
   "metadata": {},
   "source": [
    "Check against BMI category, gender, blood pressure cat"
   ]
  },
  {
   "cell_type": "code",
   "execution_count": 19,
   "metadata": {},
   "outputs": [
    {
     "data": {
      "text/plain": [
       "<AxesSubplot:xlabel='BMI_cat', ylabel='Heart_disease'>"
      ]
     },
     "execution_count": 19,
     "metadata": {},
     "output_type": "execute_result"
    },
    {
     "data": {
      "image/png": "[encoded data removed]",
      "text/plain": [
       "<Figure size 432x288 with 1 Axes>"
      ]
     },
     "metadata": {},
     "output_type": "display_data"
    }
   ],
   "source": [
    "#condition = 'BP_cat == 1 and cardio ==1'\n",
    "#fig, ax = plt.subplot(), plt.axes()\n",
    "\n",
    "counts =[]\n",
    "proportions = []\n",
    "\n",
    "for i in range(1,5):\n",
    "    count = len(df_cardio.query(f'BP_cat == {i} and cardio ==1'))\n",
    "    proportion = count / len(df_cardio.query(f'BP_cat == {i}')) \n",
    "    counts.append(count)\n",
    "    proportions.append(proportion)\n",
    "\n",
    "df_bmi = pd.DataFrame([range(1,5), counts, proportions]).T\n",
    "df_bmi.columns = ['BMI_cat', 'Count', 'Heart_disease']\n",
    "\n",
    "\n",
    "sns.set_theme(style=\"whitegrid\")\n",
    "sns.barplot(x = df_bmi.BMI_cat,y = df_bmi.Heart_disease)"
   ]
  },
  {
   "cell_type": "code",
   "execution_count": 20,
   "metadata": {},
   "outputs": [],
   "source": [
    "def categorical_feature_to_heart_desease_proportion(dataframe, feature, categorical_grades):\n",
    "    counts =[]\n",
    "    proportions = []\n",
    "\n",
    "    for i in range(1,categorical_grades+1):\n",
    "        count = len(dataframe.query(f'{feature} == {i} and cardio ==1'))\n",
    "        proportion = count / len(dataframe.query(f'{feature} == {i}')) \n",
    "        counts.append(count)\n",
    "        proportions.append(proportion)\n",
    "\n",
    "    df = pd.DataFrame([range(1,categorical_grades+1), counts, proportions]).T\n",
    "    df.columns = [f'{feature}', 'Count', 'Heart_disease']\n",
    "    return df\n",
    "\n",
    "category_to_observe = {'bmi' : ['BMI_cat', 6],\n",
    "                       'blood_pressure' : ['BP_cat', 4],\n",
    "                       'cholesterol' : ['cholesterol', 3],\n",
    "                       'glucose' : ['gluc', 3],\n",
    "                       }\n",
    "\n",
    "\n"
   ]
  },
  {
   "cell_type": "code",
   "execution_count": 21,
   "metadata": {},
   "outputs": [
    {
     "data": {
      "image/png": "[encoded data removed]",
      "text/plain": [
       "<Figure size 1080x360 with 4 Axes>"
      ]
     },
     "metadata": {},
     "output_type": "display_data"
    }
   ],
   "source": [
    "fig, axs = plt.subplots(1,len(category_to_observe), figsize = (15,5), sharey= True)\n",
    "\n",
    "for i, value in enumerate(category_to_observe.values()):\n",
    "    df = categorical_feature_to_heart_desease_proportion(df_cardio, value[0], value[1])\n",
    "    fig = sns.barplot(x = df[value[0]],y = df.Heart_disease, ax = axs[i])\n",
    "\n"
   ]
  },
  {
   "cell_type": "code",
   "execution_count": 22,
   "metadata": {},
   "outputs": [
    {
     "data": {
      "image/png": "[encoded data removed]",
      "text/plain": [
       "<Figure size 432x288 with 2 Axes>"
      ]
     },
     "metadata": {},
     "output_type": "display_data"
    }
   ],
   "source": [
    "sns.heatmap(df_cardio.corr());"
   ]
  },
  {
   "cell_type": "code",
   "execution_count": 23,
   "metadata": {},
   "outputs": [
    {
     "name": "stdout",
     "output_type": "stream",
     "text": [
      "    gender  ap_hi  ap_lo  cholesterol  gluc  smoke  alco  active  cardio  \\\n",
      "id                                                                         \n",
      "0        2    110     80            1     1      0     0       1       0   \n",
      "1        1    140     90            3     1      0     0       1       1   \n",
      "2        1    130     70            3     1      0     0       0       1   \n",
      "3        2    150    100            1     1      0     0       1       1   \n",
      "4        1    100     60            1     1      0     0       0       0   \n",
      "\n",
      "    age_years        BMI  \n",
      "id                        \n",
      "0   50.391781  22.032402  \n",
      "1   55.419178  36.353881  \n",
      "2   51.663014  23.791042  \n",
      "3   48.282192  28.710479  \n",
      "4   47.873973  23.950792  \n",
      "      age  gender  cholesterol  gluc  smoke  alco  active  cardio  BMI_cat  \\\n",
      "id                                                                           \n",
      "0   18393       2            1     1      0     0       1       0        2   \n",
      "1   20228       1            3     1      0     0       1       1        5   \n",
      "2   18857       1            3     1      0     0       0       1        2   \n",
      "3   17623       2            1     1      0     0       1       1        3   \n",
      "4   17474       1            1     1      0     0       0       0        2   \n",
      "\n",
      "    BP_cat  \n",
      "id          \n",
      "0        3  \n",
      "1        4  \n",
      "2        3  \n",
      "3        4  \n",
      "4        1  \n"
     ]
    }
   ],
   "source": [
    "df_cardio_categorical_features = df_cardio.drop(['ap_hi', 'ap_lo', 'age_years', 'height', 'weight', 'BMI'], axis =1)\n",
    "df_cardio_features = df_cardio.drop(['BMI_cat', 'BP_cat','height', 'weight', 'age'], axis =1)\n",
    "\n",
    "\n",
    "\n",
    "\n",
    "#Round BMI, keep age years and round\n",
    "print(df_cardio_features.head())\n",
    "print(df_cardio_categorical_features.head())"
   ]
  },
  {
   "cell_type": "code",
   "execution_count": 24,
   "metadata": {},
   "outputs": [
    {
     "data": {
      "text/html": [
       "<div>\n",
       "<style scoped>\n",
       "    .dataframe tbody tr th:only-of-type {\n",
       "        vertical-align: middle;\n",
       "    }\n",
       "\n",
       "    .dataframe tbody tr th {\n",
       "        vertical-align: top;\n",
       "    }\n",
       "\n",
       "    .dataframe thead th {\n",
       "        text-align: right;\n",
       "    }\n",
       "</style>\n",
       "<table border=\"1\" class=\"dataframe\">\n",
       "  <thead>\n",
       "    <tr style=\"text-align: right;\">\n",
       "      <th></th>\n",
       "      <th>ap_hi</th>\n",
       "      <th>ap_lo</th>\n",
       "      <th>gluc</th>\n",
       "      <th>smoke</th>\n",
       "      <th>alco</th>\n",
       "      <th>active</th>\n",
       "      <th>cardio</th>\n",
       "      <th>age_years</th>\n",
       "      <th>BMI</th>\n",
       "      <th>gender_1</th>\n",
       "      <th>gender_2</th>\n",
       "      <th>cholesterol_1</th>\n",
       "      <th>cholesterol_2</th>\n",
       "      <th>cholesterol_3</th>\n",
       "    </tr>\n",
       "    <tr>\n",
       "      <th>id</th>\n",
       "      <th></th>\n",
       "      <th></th>\n",
       "      <th></th>\n",
       "      <th></th>\n",
       "      <th></th>\n",
       "      <th></th>\n",
       "      <th></th>\n",
       "      <th></th>\n",
       "      <th></th>\n",
       "      <th></th>\n",
       "      <th></th>\n",
       "      <th></th>\n",
       "      <th></th>\n",
       "      <th></th>\n",
       "    </tr>\n",
       "  </thead>\n",
       "  <tbody>\n",
       "    <tr>\n",
       "      <th>0</th>\n",
       "      <td>110</td>\n",
       "      <td>80</td>\n",
       "      <td>1</td>\n",
       "      <td>0</td>\n",
       "      <td>0</td>\n",
       "      <td>1</td>\n",
       "      <td>0</td>\n",
       "      <td>50.39</td>\n",
       "      <td>22.03</td>\n",
       "      <td>0</td>\n",
       "      <td>1</td>\n",
       "      <td>1</td>\n",
       "      <td>0</td>\n",
       "      <td>0</td>\n",
       "    </tr>\n",
       "    <tr>\n",
       "      <th>1</th>\n",
       "      <td>140</td>\n",
       "      <td>90</td>\n",
       "      <td>1</td>\n",
       "      <td>0</td>\n",
       "      <td>0</td>\n",
       "      <td>1</td>\n",
       "      <td>1</td>\n",
       "      <td>55.42</td>\n",
       "      <td>36.35</td>\n",
       "      <td>1</td>\n",
       "      <td>0</td>\n",
       "      <td>0</td>\n",
       "      <td>0</td>\n",
       "      <td>1</td>\n",
       "    </tr>\n",
       "    <tr>\n",
       "      <th>2</th>\n",
       "      <td>130</td>\n",
       "      <td>70</td>\n",
       "      <td>1</td>\n",
       "      <td>0</td>\n",
       "      <td>0</td>\n",
       "      <td>0</td>\n",
       "      <td>1</td>\n",
       "      <td>51.66</td>\n",
       "      <td>23.79</td>\n",
       "      <td>1</td>\n",
       "      <td>0</td>\n",
       "      <td>0</td>\n",
       "      <td>0</td>\n",
       "      <td>1</td>\n",
       "    </tr>\n",
       "    <tr>\n",
       "      <th>3</th>\n",
       "      <td>150</td>\n",
       "      <td>100</td>\n",
       "      <td>1</td>\n",
       "      <td>0</td>\n",
       "      <td>0</td>\n",
       "      <td>1</td>\n",
       "      <td>1</td>\n",
       "      <td>48.28</td>\n",
       "      <td>28.71</td>\n",
       "      <td>0</td>\n",
       "      <td>1</td>\n",
       "      <td>1</td>\n",
       "      <td>0</td>\n",
       "      <td>0</td>\n",
       "    </tr>\n",
       "    <tr>\n",
       "      <th>4</th>\n",
       "      <td>100</td>\n",
       "      <td>60</td>\n",
       "      <td>1</td>\n",
       "      <td>0</td>\n",
       "      <td>0</td>\n",
       "      <td>0</td>\n",
       "      <td>0</td>\n",
       "      <td>47.87</td>\n",
       "      <td>23.95</td>\n",
       "      <td>1</td>\n",
       "      <td>0</td>\n",
       "      <td>1</td>\n",
       "      <td>0</td>\n",
       "      <td>0</td>\n",
       "    </tr>\n",
       "    <tr>\n",
       "      <th>...</th>\n",
       "      <td>...</td>\n",
       "      <td>...</td>\n",
       "      <td>...</td>\n",
       "      <td>...</td>\n",
       "      <td>...</td>\n",
       "      <td>...</td>\n",
       "      <td>...</td>\n",
       "      <td>...</td>\n",
       "      <td>...</td>\n",
       "      <td>...</td>\n",
       "      <td>...</td>\n",
       "      <td>...</td>\n",
       "      <td>...</td>\n",
       "      <td>...</td>\n",
       "    </tr>\n",
       "    <tr>\n",
       "      <th>99992</th>\n",
       "      <td>150</td>\n",
       "      <td>80</td>\n",
       "      <td>1</td>\n",
       "      <td>0</td>\n",
       "      <td>0</td>\n",
       "      <td>1</td>\n",
       "      <td>1</td>\n",
       "      <td>57.74</td>\n",
       "      <td>29.74</td>\n",
       "      <td>1</td>\n",
       "      <td>0</td>\n",
       "      <td>1</td>\n",
       "      <td>0</td>\n",
       "      <td>0</td>\n",
       "    </tr>\n",
       "    <tr>\n",
       "      <th>99993</th>\n",
       "      <td>120</td>\n",
       "      <td>80</td>\n",
       "      <td>1</td>\n",
       "      <td>1</td>\n",
       "      <td>0</td>\n",
       "      <td>1</td>\n",
       "      <td>0</td>\n",
       "      <td>52.71</td>\n",
       "      <td>27.01</td>\n",
       "      <td>0</td>\n",
       "      <td>1</td>\n",
       "      <td>1</td>\n",
       "      <td>0</td>\n",
       "      <td>0</td>\n",
       "    </tr>\n",
       "    <tr>\n",
       "      <th>99996</th>\n",
       "      <td>180</td>\n",
       "      <td>90</td>\n",
       "      <td>1</td>\n",
       "      <td>0</td>\n",
       "      <td>1</td>\n",
       "      <td>0</td>\n",
       "      <td>1</td>\n",
       "      <td>52.24</td>\n",
       "      <td>30.13</td>\n",
       "      <td>0</td>\n",
       "      <td>1</td>\n",
       "      <td>0</td>\n",
       "      <td>0</td>\n",
       "      <td>1</td>\n",
       "    </tr>\n",
       "    <tr>\n",
       "      <th>99998</th>\n",
       "      <td>135</td>\n",
       "      <td>80</td>\n",
       "      <td>2</td>\n",
       "      <td>0</td>\n",
       "      <td>0</td>\n",
       "      <td>0</td>\n",
       "      <td>1</td>\n",
       "      <td>61.45</td>\n",
       "      <td>27.59</td>\n",
       "      <td>1</td>\n",
       "      <td>0</td>\n",
       "      <td>1</td>\n",
       "      <td>0</td>\n",
       "      <td>0</td>\n",
       "    </tr>\n",
       "    <tr>\n",
       "      <th>99999</th>\n",
       "      <td>120</td>\n",
       "      <td>80</td>\n",
       "      <td>1</td>\n",
       "      <td>0</td>\n",
       "      <td>0</td>\n",
       "      <td>1</td>\n",
       "      <td>0</td>\n",
       "      <td>56.27</td>\n",
       "      <td>24.84</td>\n",
       "      <td>1</td>\n",
       "      <td>0</td>\n",
       "      <td>0</td>\n",
       "      <td>1</td>\n",
       "      <td>0</td>\n",
       "    </tr>\n",
       "  </tbody>\n",
       "</table>\n",
       "<p>68458 rows × 14 columns</p>\n",
       "</div>"
      ],
      "text/plain": [
       "       ap_hi  ap_lo  gluc  smoke  alco  active  cardio  age_years    BMI  \\\n",
       "id                                                                         \n",
       "0        110     80     1      0     0       1       0      50.39  22.03   \n",
       "1        140     90     1      0     0       1       1      55.42  36.35   \n",
       "2        130     70     1      0     0       0       1      51.66  23.79   \n",
       "3        150    100     1      0     0       1       1      48.28  28.71   \n",
       "4        100     60     1      0     0       0       0      47.87  23.95   \n",
       "...      ...    ...   ...    ...   ...     ...     ...        ...    ...   \n",
       "99992    150     80     1      0     0       1       1      57.74  29.74   \n",
       "99993    120     80     1      1     0       1       0      52.71  27.01   \n",
       "99996    180     90     1      0     1       0       1      52.24  30.13   \n",
       "99998    135     80     2      0     0       0       1      61.45  27.59   \n",
       "99999    120     80     1      0     0       1       0      56.27  24.84   \n",
       "\n",
       "       gender_1  gender_2  cholesterol_1  cholesterol_2  cholesterol_3  \n",
       "id                                                                      \n",
       "0             0         1              1              0              0  \n",
       "1             1         0              0              0              1  \n",
       "2             1         0              0              0              1  \n",
       "3             0         1              1              0              0  \n",
       "4             1         0              1              0              0  \n",
       "...         ...       ...            ...            ...            ...  \n",
       "99992         1         0              1              0              0  \n",
       "99993         0         1              1              0              0  \n",
       "99996         0         1              0              0              1  \n",
       "99998         1         0              1              0              0  \n",
       "99999         1         0              0              1              0  \n",
       "\n",
       "[68458 rows x 14 columns]"
      ]
     },
     "execution_count": 24,
     "metadata": {},
     "output_type": "execute_result"
    }
   ],
   "source": [
    "df_cardio_categorical_features_encoded = pd.get_dummies(df_cardio_categorical_features, columns= ['BMI_cat', 'BP_cat', 'gender', 'cholesterol','gluc'])\n",
    "df_cardio_features_encoded = pd.get_dummies(df_cardio_features, columns= ['gender', 'cholesterol'])\n",
    "df_cardio_features_encoded = df_cardio_features_encoded.round(2)\n",
    "df_cardio_features_encoded"
   ]
  },
  {
   "cell_type": "code",
   "execution_count": 25,
   "metadata": {},
   "outputs": [
    {
     "data": {
      "text/html": [
       "<div>\n",
       "<style scoped>\n",
       "    .dataframe tbody tr th:only-of-type {\n",
       "        vertical-align: middle;\n",
       "    }\n",
       "\n",
       "    .dataframe tbody tr th {\n",
       "        vertical-align: top;\n",
       "    }\n",
       "\n",
       "    .dataframe thead th {\n",
       "        text-align: right;\n",
       "    }\n",
       "</style>\n",
       "<table border=\"1\" class=\"dataframe\">\n",
       "  <thead>\n",
       "    <tr style=\"text-align: right;\">\n",
       "      <th></th>\n",
       "      <th>age</th>\n",
       "      <th>smoke</th>\n",
       "      <th>alco</th>\n",
       "      <th>active</th>\n",
       "      <th>cardio</th>\n",
       "      <th>BMI_cat_1</th>\n",
       "      <th>BMI_cat_2</th>\n",
       "      <th>BMI_cat_3</th>\n",
       "      <th>BMI_cat_4</th>\n",
       "      <th>BMI_cat_5</th>\n",
       "      <th>...</th>\n",
       "      <th>BP_cat_3</th>\n",
       "      <th>BP_cat_4</th>\n",
       "      <th>gender_1</th>\n",
       "      <th>gender_2</th>\n",
       "      <th>cholesterol_1</th>\n",
       "      <th>cholesterol_2</th>\n",
       "      <th>cholesterol_3</th>\n",
       "      <th>gluc_1</th>\n",
       "      <th>gluc_2</th>\n",
       "      <th>gluc_3</th>\n",
       "    </tr>\n",
       "    <tr>\n",
       "      <th>id</th>\n",
       "      <th></th>\n",
       "      <th></th>\n",
       "      <th></th>\n",
       "      <th></th>\n",
       "      <th></th>\n",
       "      <th></th>\n",
       "      <th></th>\n",
       "      <th></th>\n",
       "      <th></th>\n",
       "      <th></th>\n",
       "      <th></th>\n",
       "      <th></th>\n",
       "      <th></th>\n",
       "      <th></th>\n",
       "      <th></th>\n",
       "      <th></th>\n",
       "      <th></th>\n",
       "      <th></th>\n",
       "      <th></th>\n",
       "      <th></th>\n",
       "      <th></th>\n",
       "    </tr>\n",
       "  </thead>\n",
       "  <tbody>\n",
       "    <tr>\n",
       "      <th>0</th>\n",
       "      <td>18393</td>\n",
       "      <td>0</td>\n",
       "      <td>0</td>\n",
       "      <td>1</td>\n",
       "      <td>0</td>\n",
       "      <td>0</td>\n",
       "      <td>1</td>\n",
       "      <td>0</td>\n",
       "      <td>0</td>\n",
       "      <td>0</td>\n",
       "      <td>...</td>\n",
       "      <td>1</td>\n",
       "      <td>0</td>\n",
       "      <td>0</td>\n",
       "      <td>1</td>\n",
       "      <td>1</td>\n",
       "      <td>0</td>\n",
       "      <td>0</td>\n",
       "      <td>1</td>\n",
       "      <td>0</td>\n",
       "      <td>0</td>\n",
       "    </tr>\n",
       "    <tr>\n",
       "      <th>1</th>\n",
       "      <td>20228</td>\n",
       "      <td>0</td>\n",
       "      <td>0</td>\n",
       "      <td>1</td>\n",
       "      <td>1</td>\n",
       "      <td>0</td>\n",
       "      <td>0</td>\n",
       "      <td>0</td>\n",
       "      <td>0</td>\n",
       "      <td>1</td>\n",
       "      <td>...</td>\n",
       "      <td>0</td>\n",
       "      <td>1</td>\n",
       "      <td>1</td>\n",
       "      <td>0</td>\n",
       "      <td>0</td>\n",
       "      <td>0</td>\n",
       "      <td>1</td>\n",
       "      <td>1</td>\n",
       "      <td>0</td>\n",
       "      <td>0</td>\n",
       "    </tr>\n",
       "    <tr>\n",
       "      <th>2</th>\n",
       "      <td>18857</td>\n",
       "      <td>0</td>\n",
       "      <td>0</td>\n",
       "      <td>0</td>\n",
       "      <td>1</td>\n",
       "      <td>0</td>\n",
       "      <td>1</td>\n",
       "      <td>0</td>\n",
       "      <td>0</td>\n",
       "      <td>0</td>\n",
       "      <td>...</td>\n",
       "      <td>1</td>\n",
       "      <td>0</td>\n",
       "      <td>1</td>\n",
       "      <td>0</td>\n",
       "      <td>0</td>\n",
       "      <td>0</td>\n",
       "      <td>1</td>\n",
       "      <td>1</td>\n",
       "      <td>0</td>\n",
       "      <td>0</td>\n",
       "    </tr>\n",
       "    <tr>\n",
       "      <th>3</th>\n",
       "      <td>17623</td>\n",
       "      <td>0</td>\n",
       "      <td>0</td>\n",
       "      <td>1</td>\n",
       "      <td>1</td>\n",
       "      <td>0</td>\n",
       "      <td>0</td>\n",
       "      <td>1</td>\n",
       "      <td>0</td>\n",
       "      <td>0</td>\n",
       "      <td>...</td>\n",
       "      <td>0</td>\n",
       "      <td>1</td>\n",
       "      <td>0</td>\n",
       "      <td>1</td>\n",
       "      <td>1</td>\n",
       "      <td>0</td>\n",
       "      <td>0</td>\n",
       "      <td>1</td>\n",
       "      <td>0</td>\n",
       "      <td>0</td>\n",
       "    </tr>\n",
       "    <tr>\n",
       "      <th>4</th>\n",
       "      <td>17474</td>\n",
       "      <td>0</td>\n",
       "      <td>0</td>\n",
       "      <td>0</td>\n",
       "      <td>0</td>\n",
       "      <td>0</td>\n",
       "      <td>1</td>\n",
       "      <td>0</td>\n",
       "      <td>0</td>\n",
       "      <td>0</td>\n",
       "      <td>...</td>\n",
       "      <td>0</td>\n",
       "      <td>0</td>\n",
       "      <td>1</td>\n",
       "      <td>0</td>\n",
       "      <td>1</td>\n",
       "      <td>0</td>\n",
       "      <td>0</td>\n",
       "      <td>1</td>\n",
       "      <td>0</td>\n",
       "      <td>0</td>\n",
       "    </tr>\n",
       "  </tbody>\n",
       "</table>\n",
       "<p>5 rows × 23 columns</p>\n",
       "</div>"
      ],
      "text/plain": [
       "      age  smoke  alco  active  cardio  BMI_cat_1  BMI_cat_2  BMI_cat_3  \\\n",
       "id                                                                        \n",
       "0   18393      0     0       1       0          0          1          0   \n",
       "1   20228      0     0       1       1          0          0          0   \n",
       "2   18857      0     0       0       1          0          1          0   \n",
       "3   17623      0     0       1       1          0          0          1   \n",
       "4   17474      0     0       0       0          0          1          0   \n",
       "\n",
       "    BMI_cat_4  BMI_cat_5  ...  BP_cat_3  BP_cat_4  gender_1  gender_2  \\\n",
       "id                        ...                                           \n",
       "0           0          0  ...         1         0         0         1   \n",
       "1           0          1  ...         0         1         1         0   \n",
       "2           0          0  ...         1         0         1         0   \n",
       "3           0          0  ...         0         1         0         1   \n",
       "4           0          0  ...         0         0         1         0   \n",
       "\n",
       "    cholesterol_1  cholesterol_2  cholesterol_3  gluc_1  gluc_2  gluc_3  \n",
       "id                                                                       \n",
       "0               1              0              0       1       0       0  \n",
       "1               0              0              1       1       0       0  \n",
       "2               0              0              1       1       0       0  \n",
       "3               1              0              0       1       0       0  \n",
       "4               1              0              0       1       0       0  \n",
       "\n",
       "[5 rows x 23 columns]"
      ]
     },
     "execution_count": 25,
     "metadata": {},
     "output_type": "execute_result"
    }
   ],
   "source": [
    "df_cardio_categorical_features_encoded.head()"
   ]
  },
  {
   "cell_type": "code",
   "execution_count": 26,
   "metadata": {},
   "outputs": [
    {
     "data": {
      "text/plain": [
       "((38336, 13), (16430, 13), (38336,), (16430,), (13692, 13), (13692,))"
      ]
     },
     "execution_count": 26,
     "metadata": {},
     "output_type": "execute_result"
    }
   ],
   "source": [
    "from sklearn.model_selection import train_test_split\n",
    "\n",
    "X_1, y_1 = df_cardio_features_encoded.drop('cardio', axis =1), df_cardio_features_encoded['cardio']\n",
    "X_2, y_2 = df_cardio_categorical_features_encoded.drop('cardio', axis =1), df_cardio_categorical_features_encoded['cardio']\n",
    "\n",
    "X1_train, X1_test, y1_train, y1_test = train_test_split(X_1,y_1, test_size= 0.2, random_state= 42)\n",
    "X2_train, X2_test, y2_train, y2_test = train_test_split(X_2,y_2, test_size= 0.2, random_state= 42)\n",
    "\n",
    "X1_train, X1_val, y1_train, y1_val = train_test_split(X1_train,y1_train, test_size= 0.3, random_state= 42)\n",
    "X2_train, X2_val, y2_train, y2_val = train_test_split(X2_train,y2_train, test_size= 0.3, random_state= 42)\n",
    "\n",
    "X1_train.shape, X1_val.shape, y1_train.shape, y1_val.shape, X1_test.shape, y1_test.shape\n",
    "\n"
   ]
  },
  {
   "cell_type": "code",
   "execution_count": 27,
   "metadata": {},
   "outputs": [],
   "source": [
    "from sklearn.model_selection import GridSearchCV\n",
    "from sklearn.pipeline import Pipeline\n",
    "from sklearn.preprocessing import StandardScaler\n",
    "from sklearn.neighbors import KNeighborsClassifier\n",
    "from sklearn.linear_model import LogisticRegression\n",
    "from sklearn.ensemble import RandomForestClassifier\n",
    "from sklearn.cluster import KMeans\n",
    "\n",
    "\n",
    "\n",
    "pipe_KNN = Pipeline([(\"scaler\", StandardScaler()), (\"knn\", KNeighborsClassifier())])\n",
    "pipeline_logistic = Pipeline([(\"scaler\", StandardScaler()), (\"logistic\", LogisticRegression(solver = \"saga\", penalty = \"elasticnet\", multi_class=\"ovr\", max_iter = 10000))])\n",
    "pipe_SVM = Pipeline([(\"scaler\", StandardScaler()), (\"km\", KMeans())])\n",
    "\n",
    "param_grid_KNN = {\"knn__n_neighbors\" : list(range(1,100))}\n",
    "param_grid_logistic = {\"logistic__l1_ratio\": np.linspace(0,1, 20)}\n",
    "param_grid_rf = {\"n_estimators\" : [50, 100, 150, 200, 300],\n",
    "             \"criterion\" : [\"gini\", \"entropy\"],\n",
    "             \"max_features\": [\"auto\", \"sqrt\", \"log2\"]\n",
    "}\n",
    "param_grid_SVM ={\"km__n_clusters\": list(range(2,20))}\n",
    "\n",
    "classifier_KNN = GridSearchCV(estimator= pipe_KNN, param_grid = param_grid_KNN, cv = 5, scoring = \"accuracy\", verbose = 1)\n",
    "classifier_logistic = GridSearchCV(estimator= pipeline_logistic, param_grid= param_grid_logistic, cv = 5, scoring = \"accuracy\", verbose = 1)\n",
    "classifier_RF = GridSearchCV(RandomForestClassifier(), param_grid= param_grid_rf, cv = 4, verbose =1, scoring = \"recall\")\n",
    "\n",
    "# Use SSD sum squared distances\n",
    "classifier_SVM = GridSearchCV(estimator= pipe_SVM, param_grid= param_grid_SVM, verbose =1)\n",
    "\n",
    "\n",
    "\n"
   ]
  },
  {
   "cell_type": "code",
   "execution_count": 29,
   "metadata": {},
   "outputs": [
    {
     "name": "stdout",
     "output_type": "stream",
     "text": [
      "Fitting 5 folds for each of 18 candidates, totalling 90 fits\n",
      " Best params or df 1: {'km__n_clusters': 19}\n",
      "Fitting 5 folds for each of 99 candidates, totalling 495 fits\n",
      " Best params or df 1: {'knn__n_neighbors': 55}\n",
      "Fitting 5 folds for each of 20 candidates, totalling 100 fits\n",
      " Best params or df 1: {'logistic__l1_ratio': 0.0}\n",
      "Fitting 4 folds for each of 30 candidates, totalling 120 fits\n",
      " Best params or df 1: {'criterion': 'gini', 'max_features': 'log2', 'n_estimators': 300}\n"
     ]
    }
   ],
   "source": [
    "models = (classifier_SVM, classifier_KNN, classifier_logistic, classifier_RF)\n",
    "for model in models:\n",
    "    model.fit(X1_train, y1_train)\n",
    "    print(f\" Best params or df 1: {model.best_params_}\")\n",
    "    #y_pred_tned_1 = classifier.predict(X1_val)\n",
    "    #cm1 = confusion_matrix(y1_val, y_pred_tned_1)\n",
    "\n",
    "\n",
    "\n",
    "    \n"
   ]
  },
  {
   "cell_type": "markdown",
   "metadata": {},
   "source": [
    "First attemps on kmeans n_neighbors parameter gave 19 which was the highest value given in my parameters CV, I have had to change the range in order to look if a better figure was available"
   ]
  },
  {
   "cell_type": "code",
   "execution_count": 31,
   "metadata": {},
   "outputs": [
    {
     "name": "stdout",
     "output_type": "stream",
     "text": [
      "              precision    recall  f1-score   support\n",
      "\n",
      "           0       0.70      0.71      0.71      8303\n",
      "           1       0.70      0.69      0.70      8127\n",
      "\n",
      "    accuracy                           0.70     16430\n",
      "   macro avg       0.70      0.70      0.70     16430\n",
      "weighted avg       0.70      0.70      0.70     16430\n",
      "\n"
     ]
    }
   ],
   "source": [
    "from sklearn.metrics import classification_report, confusion_matrix, ConfusionMatrixDisplay\n",
    "\n",
    "y_pred_tned_1 = classifier_RF.predict(X1_val)\n",
    "\n",
    "print(classification_report(y1_val, y_pred_tned_1))\n",
    "\n",
    "cm1 = confusion_matrix(y1_val, y_pred_tned_1)\n",
    "\n",
    "\n"
   ]
  },
  {
   "cell_type": "code",
   "execution_count": 32,
   "metadata": {},
   "outputs": [],
   "source": [
    "y_pred_tned_1 = classifier_KNN.predict(X1_val)\n",
    "cm2 = confusion_matrix(y1_val, y_pred_tned_1)\n"
   ]
  },
  {
   "cell_type": "code",
   "execution_count": 33,
   "metadata": {},
   "outputs": [],
   "source": [
    "y_pred_tned_1 = classifier_logistic.predict(X1_val)\n",
    "cm3 = confusion_matrix(y1_val, y_pred_tned_1)"
   ]
  },
  {
   "cell_type": "code",
   "execution_count": 34,
   "metadata": {},
   "outputs": [],
   "source": [
    "y_pred_tned_1 = classifier_RF.predict(X1_val)\n",
    "cm4 = confusion_matrix(y1_val, y_pred_tned_1)"
   ]
  },
  {
   "cell_type": "code",
   "execution_count": 35,
   "metadata": {},
   "outputs": [
    {
     "data": {
      "image/png": "[encoded data removed]",
      "text/plain": [
       "<Figure size 1152x576 with 8 Axes>"
      ]
     },
     "metadata": {},
     "output_type": "display_data"
    }
   ],
   "source": [
    "cms =  (cm1, cm2, cm3, cm4)\n",
    "fig, axs = plt.subplots(1,len(cms), figsize =(16,8))\n",
    "\n",
    "for i, cm in enumerate(cms) :\n",
    "    ConfusionMatrixDisplay(cm).plot(ax = axs[i])\n",
    "    axs[i].set(title =\"\")\n",
    "    \n",
    "\n",
    "\n"
   ]
  },
  {
   "cell_type": "code",
   "execution_count": 39,
   "metadata": {},
   "outputs": [
    {
     "name": "stdout",
     "output_type": "stream",
     "text": [
      "Fitting 5 folds for each of 18 candidates, totalling 90 fits\n",
      " Best params or df 2: {'km__n_clusters': 19}\n",
      "Fitting 5 folds for each of 99 candidates, totalling 495 fits\n",
      " Best params or df 2: {'knn__n_neighbors': 88}\n",
      "Fitting 5 folds for each of 20 candidates, totalling 100 fits\n",
      " Best params or df 2: {'logistic__l1_ratio': 0.3684210526315789}\n",
      "Fitting 4 folds for each of 30 candidates, totalling 120 fits\n",
      " Best params or df 2: {'criterion': 'entropy', 'max_features': 'auto', 'n_estimators': 100}\n"
     ]
    }
   ],
   "source": [
    "models = (classifier_SVM, classifier_KNN, classifier_logistic, classifier_RF)\n",
    "cms = []\n",
    "for model in models:\n",
    "    model.fit(X2_train, y2_train)\n",
    "    print(f\" Best params or df 2: {model.best_params_}\")\n",
    "    y_pred_tned_2 = model.predict(X2_val)\n",
    "    cms.append(confusion_matrix(y2_val, y_pred_tned_2))\n",
    "\n",
    "\n",
    "    \n"
   ]
  },
  {
   "cell_type": "code",
   "execution_count": 41,
   "metadata": {},
   "outputs": [
    {
     "data": {
      "image/png": "[encoded data removed]",
      "text/plain": [
       "<Figure size 1152x576 with 8 Axes>"
      ]
     },
     "metadata": {},
     "output_type": "display_data"
    }
   ],
   "source": [
    "fig, axs = plt.subplots(1,4, figsize =(16,8))\n",
    "\n",
    "for i, cm in enumerate(cms) :\n",
    "    ConfusionMatrixDisplay(cm).plot(ax = axs[i])    \n"
   ]
  },
  {
   "cell_type": "code",
   "execution_count": 47,
   "metadata": {},
   "outputs": [
    {
     "data": {
      "text/plain": [
       "(19, 19)"
      ]
     },
     "execution_count": 47,
     "metadata": {},
     "output_type": "execute_result"
    }
   ],
   "source": [
    "cms[0].shape\n"
   ]
  },
  {
   "cell_type": "code",
   "execution_count": null,
   "metadata": {},
   "outputs": [],
   "source": [
    "def fit_and_predict(model, X_train, y_train, X_val, y_val):\n",
    "    model.fit(X_train, y_train)\n",
    "    print(f\" Best params for dataset: {model.best_params_}\")\n",
    "    y_pred_tned = model.predict(X_val)\n",
    "    return(confusion_matrix(y_val, y_pred_tned))"
   ]
  }
 ],
 "metadata": {
  "interpreter": {
   "hash": "75feb5489d5c2e96eb2dccc363e8724abde0acaaac398a66f30ecdc789342b4f"
  },
  "kernelspec": {
   "display_name": "Python 3.9.7 ('ML-ll')",
   "language": "python",
   "name": "python3"
  },
  "language_info": {
   "codemirror_mode": {
    "name": "ipython",
    "version": 3
   },
   "file_extension": ".py",
   "mimetype": "text/x-python",
   "name": "python",
   "nbconvert_exporter": "python",
   "pygments_lexer": "ipython3",
   "version": "3.9.7"
  },
  "orig_nbformat": 4
 },
 "nbformat": 4,
 "nbformat_minor": 2
}
