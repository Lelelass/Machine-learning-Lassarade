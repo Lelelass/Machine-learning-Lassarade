{
 "cells": [
  {
   "cell_type": "code",
   "execution_count": 3,
   "metadata": {},
   "outputs": [
    {
     "data": {
      "text/plain": [
       "['./ml-25m/links.csv',\n",
       " './ml-25m/tags.csv',\n",
       " './ml-25m/genome-tags.csv',\n",
       " './ml-25m/ratings.csv',\n",
       " './ml-25m/README.txt',\n",
       " './ml-25m/genome-scores.csv',\n",
       " './ml-25m/movies.csv']"
      ]
     },
     "execution_count": 3,
     "metadata": {},
     "output_type": "execute_result"
    }
   ],
   "source": [
    "import os\n",
    "import pandas as pd\n",
    "\n",
    "filepaths = []\n",
    "\n",
    "for file in os.listdir(\"ml-25m\"):\n",
    "    filepath = \"./ml-25m/\" + f\"{file}\"\n",
    "    filepaths.append(filepath)\n",
    "\n",
    "\n",
    "filepaths\n",
    "    "
   ]
  },
  {
   "cell_type": "code",
   "execution_count": 9,
   "metadata": {},
   "outputs": [
    {
     "data": {
      "text/plain": [
       "(   movieId  tagId  relevance\n",
       " 0        1      1    0.02875\n",
       " 1        1      2    0.02375\n",
       " 2        1      3    0.06250\n",
       " 3        1      4    0.07575\n",
       " 4        1      5    0.14075,\n",
       "    tagId           tag\n",
       " 0      1           007\n",
       " 1      2  007 (series)\n",
       " 2      3  18th century\n",
       " 3      4         1920s\n",
       " 4      5         1930s)"
      ]
     },
     "execution_count": 9,
     "metadata": {},
     "output_type": "execute_result"
    }
   ],
   "source": [
    "with open(filepaths[2]) as gentags, open(filepaths[-2]) as genscores:\n",
    "    df_gentags = pd.read_csv(gentags)\n",
    "    df_genscores = pd.read_csv(genscores)\n",
    "\n",
    "\n"
   ]
  },
  {
   "cell_type": "code",
   "execution_count": 10,
   "metadata": {},
   "outputs": [
    {
     "data": {
      "text/html": [
       "<div>\n",
       "<style scoped>\n",
       "    .dataframe tbody tr th:only-of-type {\n",
       "        vertical-align: middle;\n",
       "    }\n",
       "\n",
       "    .dataframe tbody tr th {\n",
       "        vertical-align: top;\n",
       "    }\n",
       "\n",
       "    .dataframe thead th {\n",
       "        text-align: right;\n",
       "    }\n",
       "</style>\n",
       "<table border=\"1\" class=\"dataframe\">\n",
       "  <thead>\n",
       "    <tr style=\"text-align: right;\">\n",
       "      <th></th>\n",
       "      <th>movieId</th>\n",
       "      <th>tagId</th>\n",
       "      <th>relevance</th>\n",
       "    </tr>\n",
       "  </thead>\n",
       "  <tbody>\n",
       "    <tr>\n",
       "      <th>count</th>\n",
       "      <td>1.558445e+07</td>\n",
       "      <td>1.558445e+07</td>\n",
       "      <td>1.558445e+07</td>\n",
       "    </tr>\n",
       "    <tr>\n",
       "      <th>mean</th>\n",
       "      <td>4.602249e+04</td>\n",
       "      <td>5.645000e+02</td>\n",
       "      <td>1.163679e-01</td>\n",
       "    </tr>\n",
       "    <tr>\n",
       "      <th>std</th>\n",
       "      <td>5.535221e+04</td>\n",
       "      <td>3.256254e+02</td>\n",
       "      <td>1.544722e-01</td>\n",
       "    </tr>\n",
       "    <tr>\n",
       "      <th>min</th>\n",
       "      <td>1.000000e+00</td>\n",
       "      <td>1.000000e+00</td>\n",
       "      <td>2.500000e-04</td>\n",
       "    </tr>\n",
       "    <tr>\n",
       "      <th>25%</th>\n",
       "      <td>3.853750e+03</td>\n",
       "      <td>2.827500e+02</td>\n",
       "      <td>2.400000e-02</td>\n",
       "    </tr>\n",
       "    <tr>\n",
       "      <th>50%</th>\n",
       "      <td>8.575500e+03</td>\n",
       "      <td>5.645000e+02</td>\n",
       "      <td>5.650000e-02</td>\n",
       "    </tr>\n",
       "    <tr>\n",
       "      <th>75%</th>\n",
       "      <td>8.018650e+04</td>\n",
       "      <td>8.462500e+02</td>\n",
       "      <td>1.407500e-01</td>\n",
       "    </tr>\n",
       "    <tr>\n",
       "      <th>max</th>\n",
       "      <td>2.064990e+05</td>\n",
       "      <td>1.128000e+03</td>\n",
       "      <td>1.000000e+00</td>\n",
       "    </tr>\n",
       "  </tbody>\n",
       "</table>\n",
       "</div>"
      ],
      "text/plain": [
       "            movieId         tagId     relevance\n",
       "count  1.558445e+07  1.558445e+07  1.558445e+07\n",
       "mean   4.602249e+04  5.645000e+02  1.163679e-01\n",
       "std    5.535221e+04  3.256254e+02  1.544722e-01\n",
       "min    1.000000e+00  1.000000e+00  2.500000e-04\n",
       "25%    3.853750e+03  2.827500e+02  2.400000e-02\n",
       "50%    8.575500e+03  5.645000e+02  5.650000e-02\n",
       "75%    8.018650e+04  8.462500e+02  1.407500e-01\n",
       "max    2.064990e+05  1.128000e+03  1.000000e+00"
      ]
     },
     "execution_count": 10,
     "metadata": {},
     "output_type": "execute_result"
    }
   ],
   "source": [
    "df_genscores.describe()"
   ]
  },
  {
   "cell_type": "code",
   "execution_count": 12,
   "metadata": {},
   "outputs": [
    {
     "data": {
      "text/plain": [
       "(1.0, 0.0002499999999999)"
      ]
     },
     "execution_count": 12,
     "metadata": {},
     "output_type": "execute_result"
    }
   ],
   "source": [
    "df_genscores['relevance'].max(), df_genscores['relevance'].min()"
   ]
  },
  {
   "cell_type": "markdown",
   "metadata": {},
   "source": [
    "relevance has a scale from 0 to 1, maybe discard regarding to relevance at some point ? (too low relevance)"
   ]
  }
 ],
 "metadata": {
  "interpreter": {
   "hash": "75feb5489d5c2e96eb2dccc363e8724abde0acaaac398a66f30ecdc789342b4f"
  },
  "kernelspec": {
   "display_name": "Python 3.9.7 ('ML-ll')",
   "language": "python",
   "name": "python3"
  },
  "language_info": {
   "codemirror_mode": {
    "name": "ipython",
    "version": 3
   },
   "file_extension": ".py",
   "mimetype": "text/x-python",
   "name": "python",
   "nbconvert_exporter": "python",
   "pygments_lexer": "ipython3",
   "version": "3.9.7"
  },
  "orig_nbformat": 4
 },
 "nbformat": 4,
 "nbformat_minor": 2
}
