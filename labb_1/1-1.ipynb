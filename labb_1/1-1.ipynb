{
 "cells": [
  {
   "cell_type": "code",
   "execution_count": 3,
   "metadata": {},
   "outputs": [
    {
     "data": {
      "text/plain": [
       "['./ml-25m/links.csv',\n",
       " './ml-25m/tags.csv',\n",
       " './ml-25m/genome-tags.csv',\n",
       " './ml-25m/ratings.csv',\n",
       " './ml-25m/README.txt',\n",
       " './ml-25m/genome-scores.csv',\n",
       " './ml-25m/movies.csv']"
      ]
     },
     "execution_count": 3,
     "metadata": {},
     "output_type": "execute_result"
    }
   ],
   "source": [
    "import os\n",
    "import pandas as pd\n",
    "\n",
    "filepaths = []\n",
    "\n",
    "for file in os.listdir(\"ml-25m\"):\n",
    "    filepath = \"./ml-25m/\" + f\"{file}\"\n",
    "    filepaths.append(filepath)\n",
    "\n",
    "\n",
    "filepaths\n",
    "    "
   ]
  },
  {
   "cell_type": "code",
   "execution_count": 9,
   "metadata": {},
   "outputs": [
    {
     "data": {
      "text/plain": [
       "(   movieId  tagId  relevance\n",
       " 0        1      1    0.02875\n",
       " 1        1      2    0.02375\n",
       " 2        1      3    0.06250\n",
       " 3        1      4    0.07575\n",
       " 4        1      5    0.14075,\n",
       "    tagId           tag\n",
       " 0      1           007\n",
       " 1      2  007 (series)\n",
       " 2      3  18th century\n",
       " 3      4         1920s\n",
       " 4      5         1930s)"
      ]
     },
     "execution_count": 9,
     "metadata": {},
     "output_type": "execute_result"
    }
   ],
   "source": [
    "with open(filepaths[2]) as gentags, open(filepaths[-2]) as genscores:\n",
    "    df_gentags = pd.read_csv(gentags)\n",
    "    df_genscores = pd.read_csv(genscores)\n",
    "\n",
    "\n"
   ]
  },
  {
   "cell_type": "code",
   "execution_count": 10,
   "metadata": {},
   "outputs": [
    {
     "data": {
      "text/html": [
       "<div>\n",
       "<style scoped>\n",
       "    .dataframe tbody tr th:only-of-type {\n",
       "        vertical-align: middle;\n",
       "    }\n",
       "\n",
       "    .dataframe tbody tr th {\n",
       "        vertical-align: top;\n",
       "    }\n",
       "\n",
       "    .dataframe thead th {\n",
       "        text-align: right;\n",
       "    }\n",
       "</style>\n",
       "<table border=\"1\" class=\"dataframe\">\n",
       "  <thead>\n",
       "    <tr style=\"text-align: right;\">\n",
       "      <th></th>\n",
       "      <th>movieId</th>\n",
       "      <th>tagId</th>\n",
       "      <th>relevance</th>\n",
       "    </tr>\n",
       "  </thead>\n",
       "  <tbody>\n",
       "    <tr>\n",
       "      <th>count</th>\n",
       "      <td>1.558445e+07</td>\n",
       "      <td>1.558445e+07</td>\n",
       "      <td>1.558445e+07</td>\n",
       "    </tr>\n",
       "    <tr>\n",
       "      <th>mean</th>\n",
       "      <td>4.602249e+04</td>\n",
       "      <td>5.645000e+02</td>\n",
       "      <td>1.163679e-01</td>\n",
       "    </tr>\n",
       "    <tr>\n",
       "      <th>std</th>\n",
       "      <td>5.535221e+04</td>\n",
       "      <td>3.256254e+02</td>\n",
       "      <td>1.544722e-01</td>\n",
       "    </tr>\n",
       "    <tr>\n",
       "      <th>min</th>\n",
       "      <td>1.000000e+00</td>\n",
       "      <td>1.000000e+00</td>\n",
       "      <td>2.500000e-04</td>\n",
       "    </tr>\n",
       "    <tr>\n",
       "      <th>25%</th>\n",
       "      <td>3.853750e+03</td>\n",
       "      <td>2.827500e+02</td>\n",
       "      <td>2.400000e-02</td>\n",
       "    </tr>\n",
       "    <tr>\n",
       "      <th>50%</th>\n",
       "      <td>8.575500e+03</td>\n",
       "      <td>5.645000e+02</td>\n",
       "      <td>5.650000e-02</td>\n",
       "    </tr>\n",
       "    <tr>\n",
       "      <th>75%</th>\n",
       "      <td>8.018650e+04</td>\n",
       "      <td>8.462500e+02</td>\n",
       "      <td>1.407500e-01</td>\n",
       "    </tr>\n",
       "    <tr>\n",
       "      <th>max</th>\n",
       "      <td>2.064990e+05</td>\n",
       "      <td>1.128000e+03</td>\n",
       "      <td>1.000000e+00</td>\n",
       "    </tr>\n",
       "  </tbody>\n",
       "</table>\n",
       "</div>"
      ],
      "text/plain": [
       "            movieId         tagId     relevance\n",
       "count  1.558445e+07  1.558445e+07  1.558445e+07\n",
       "mean   4.602249e+04  5.645000e+02  1.163679e-01\n",
       "std    5.535221e+04  3.256254e+02  1.544722e-01\n",
       "min    1.000000e+00  1.000000e+00  2.500000e-04\n",
       "25%    3.853750e+03  2.827500e+02  2.400000e-02\n",
       "50%    8.575500e+03  5.645000e+02  5.650000e-02\n",
       "75%    8.018650e+04  8.462500e+02  1.407500e-01\n",
       "max    2.064990e+05  1.128000e+03  1.000000e+00"
      ]
     },
     "execution_count": 10,
     "metadata": {},
     "output_type": "execute_result"
    }
   ],
   "source": [
    "df_genscores.describe()"
   ]
  },
  {
   "cell_type": "code",
   "execution_count": 12,
   "metadata": {},
   "outputs": [
    {
     "data": {
      "text/plain": [
       "(1.0, 0.0002499999999999)"
      ]
     },
     "execution_count": 12,
     "metadata": {},
     "output_type": "execute_result"
    }
   ],
   "source": [
    "df_genscores['relevance'].max(), df_genscores['relevance'].min()"
   ]
  },
  {
   "cell_type": "markdown",
   "metadata": {},
   "source": [
    "relevance has a scale from 0 to 1, maybe discard regarding to relevance at some point ? (too low relevance)"
   ]
  },
  {
   "cell_type": "code",
   "execution_count": 16,
   "metadata": {},
   "outputs": [
    {
     "data": {
      "text/html": [
       "<div>\n",
       "<style scoped>\n",
       "    .dataframe tbody tr th:only-of-type {\n",
       "        vertical-align: middle;\n",
       "    }\n",
       "\n",
       "    .dataframe tbody tr th {\n",
       "        vertical-align: top;\n",
       "    }\n",
       "\n",
       "    .dataframe thead th {\n",
       "        text-align: right;\n",
       "    }\n",
       "</style>\n",
       "<table border=\"1\" class=\"dataframe\">\n",
       "  <thead>\n",
       "    <tr style=\"text-align: right;\">\n",
       "      <th></th>\n",
       "      <th>userId</th>\n",
       "      <th>movieId</th>\n",
       "      <th>rating</th>\n",
       "      <th>timestamp</th>\n",
       "    </tr>\n",
       "  </thead>\n",
       "  <tbody>\n",
       "    <tr>\n",
       "      <th>0</th>\n",
       "      <td>1</td>\n",
       "      <td>296</td>\n",
       "      <td>5.0</td>\n",
       "      <td>1147880044</td>\n",
       "    </tr>\n",
       "    <tr>\n",
       "      <th>1</th>\n",
       "      <td>1</td>\n",
       "      <td>306</td>\n",
       "      <td>3.5</td>\n",
       "      <td>1147868817</td>\n",
       "    </tr>\n",
       "    <tr>\n",
       "      <th>2</th>\n",
       "      <td>1</td>\n",
       "      <td>307</td>\n",
       "      <td>5.0</td>\n",
       "      <td>1147868828</td>\n",
       "    </tr>\n",
       "    <tr>\n",
       "      <th>3</th>\n",
       "      <td>1</td>\n",
       "      <td>665</td>\n",
       "      <td>5.0</td>\n",
       "      <td>1147878820</td>\n",
       "    </tr>\n",
       "    <tr>\n",
       "      <th>4</th>\n",
       "      <td>1</td>\n",
       "      <td>899</td>\n",
       "      <td>3.5</td>\n",
       "      <td>1147868510</td>\n",
       "    </tr>\n",
       "    <tr>\n",
       "      <th>...</th>\n",
       "      <td>...</td>\n",
       "      <td>...</td>\n",
       "      <td>...</td>\n",
       "      <td>...</td>\n",
       "    </tr>\n",
       "    <tr>\n",
       "      <th>65</th>\n",
       "      <td>1</td>\n",
       "      <td>27193</td>\n",
       "      <td>3.0</td>\n",
       "      <td>1147879774</td>\n",
       "    </tr>\n",
       "    <tr>\n",
       "      <th>66</th>\n",
       "      <td>1</td>\n",
       "      <td>27266</td>\n",
       "      <td>4.5</td>\n",
       "      <td>1147879365</td>\n",
       "    </tr>\n",
       "    <tr>\n",
       "      <th>67</th>\n",
       "      <td>1</td>\n",
       "      <td>27721</td>\n",
       "      <td>3.0</td>\n",
       "      <td>1147869115</td>\n",
       "    </tr>\n",
       "    <tr>\n",
       "      <th>68</th>\n",
       "      <td>1</td>\n",
       "      <td>31956</td>\n",
       "      <td>3.5</td>\n",
       "      <td>1147877610</td>\n",
       "    </tr>\n",
       "    <tr>\n",
       "      <th>69</th>\n",
       "      <td>1</td>\n",
       "      <td>32591</td>\n",
       "      <td>5.0</td>\n",
       "      <td>1147879538</td>\n",
       "    </tr>\n",
       "  </tbody>\n",
       "</table>\n",
       "<p>70 rows × 4 columns</p>\n",
       "</div>"
      ],
      "text/plain": [
       "    userId  movieId  rating   timestamp\n",
       "0        1      296     5.0  1147880044\n",
       "1        1      306     3.5  1147868817\n",
       "2        1      307     5.0  1147868828\n",
       "3        1      665     5.0  1147878820\n",
       "4        1      899     3.5  1147868510\n",
       "..     ...      ...     ...         ...\n",
       "65       1    27193     3.0  1147879774\n",
       "66       1    27266     4.5  1147879365\n",
       "67       1    27721     3.0  1147869115\n",
       "68       1    31956     3.5  1147877610\n",
       "69       1    32591     5.0  1147879538\n",
       "\n",
       "[70 rows x 4 columns]"
      ]
     },
     "execution_count": 16,
     "metadata": {},
     "output_type": "execute_result"
    }
   ],
   "source": [
    "with open(filepaths[3]) as scores:\n",
    "    df_scores = pd.read_csv(scores)\n",
    "\n",
    "\n",
    "len(df_scores.query(\"userId == 1\"))"
   ]
  },
  {
   "cell_type": "markdown",
   "metadata": {},
   "source": [
    "Maybe toss users with too few reviews ?"
   ]
  },
  {
   "cell_type": "code",
   "execution_count": 30,
   "metadata": {},
   "outputs": [
    {
     "ename": "KeyboardInterrupt",
     "evalue": "",
     "output_type": "error",
     "traceback": [
      "\u001b[0;31m---------------------------------------------------------------------------\u001b[0m",
      "\u001b[0;31mKeyboardInterrupt\u001b[0m                         Traceback (most recent call last)",
      "\u001b[1;32m/Users/leolassarade/GitHub-project/Machine-leaning-Lassarade/labb_1/1-1.ipynb Cell 8'\u001b[0m in \u001b[0;36m<module>\u001b[0;34m\u001b[0m\n\u001b[1;32m      <a href='vscode-notebook-cell:/Users/leolassarade/GitHub-project/Machine-leaning-Lassarade/labb_1/1-1.ipynb#ch0000007?line=0'>1</a>\u001b[0m movies_per_user \u001b[39m=\u001b[39m []\n\u001b[1;32m      <a href='vscode-notebook-cell:/Users/leolassarade/GitHub-project/Machine-leaning-Lassarade/labb_1/1-1.ipynb#ch0000007?line=2'>3</a>\u001b[0m \u001b[39mfor\u001b[39;00m user \u001b[39min\u001b[39;00m \u001b[39mrange\u001b[39m(\u001b[39m1\u001b[39m, \u001b[39mlen\u001b[39m(df_scores[\u001b[39m'\u001b[39m\u001b[39muserId\u001b[39m\u001b[39m'\u001b[39m]\u001b[39m.\u001b[39munique())):\n\u001b[0;32m----> <a href='vscode-notebook-cell:/Users/leolassarade/GitHub-project/Machine-leaning-Lassarade/labb_1/1-1.ipynb#ch0000007?line=3'>4</a>\u001b[0m     movies \u001b[39m=\u001b[39m \u001b[39mlen\u001b[39m(df_scores\u001b[39m.\u001b[39;49mquery(\u001b[39mf\u001b[39;49m\u001b[39m\"\u001b[39;49m\u001b[39muserId == \u001b[39;49m\u001b[39m{\u001b[39;49;00muser\u001b[39m}\u001b[39;49;00m\u001b[39m\"\u001b[39;49m))\n\u001b[1;32m      <a href='vscode-notebook-cell:/Users/leolassarade/GitHub-project/Machine-leaning-Lassarade/labb_1/1-1.ipynb#ch0000007?line=4'>5</a>\u001b[0m     movies_per_user\u001b[39m.\u001b[39mappend(movies)\n\u001b[1;32m      <a href='vscode-notebook-cell:/Users/leolassarade/GitHub-project/Machine-leaning-Lassarade/labb_1/1-1.ipynb#ch0000007?line=6'>7</a>\u001b[0m movies_per_user\n",
      "File \u001b[0;32m~/miniconda3/envs/ML-ll/lib/python3.9/site-packages/pandas/core/frame.py:4105\u001b[0m, in \u001b[0;36mDataFrame.query\u001b[0;34m(self, expr, inplace, **kwargs)\u001b[0m\n\u001b[1;32m   <a href='file:///Users/leolassarade/miniconda3/envs/ML-ll/lib/python3.9/site-packages/pandas/core/frame.py?line=4102'>4103</a>\u001b[0m kwargs[\u001b[39m\"\u001b[39m\u001b[39mlevel\u001b[39m\u001b[39m\"\u001b[39m] \u001b[39m=\u001b[39m kwargs\u001b[39m.\u001b[39mpop(\u001b[39m\"\u001b[39m\u001b[39mlevel\u001b[39m\u001b[39m\"\u001b[39m, \u001b[39m0\u001b[39m) \u001b[39m+\u001b[39m \u001b[39m1\u001b[39m\n\u001b[1;32m   <a href='file:///Users/leolassarade/miniconda3/envs/ML-ll/lib/python3.9/site-packages/pandas/core/frame.py?line=4103'>4104</a>\u001b[0m kwargs[\u001b[39m\"\u001b[39m\u001b[39mtarget\u001b[39m\u001b[39m\"\u001b[39m] \u001b[39m=\u001b[39m \u001b[39mNone\u001b[39;00m\n\u001b[0;32m-> <a href='file:///Users/leolassarade/miniconda3/envs/ML-ll/lib/python3.9/site-packages/pandas/core/frame.py?line=4104'>4105</a>\u001b[0m res \u001b[39m=\u001b[39m \u001b[39mself\u001b[39;49m\u001b[39m.\u001b[39;49meval(expr, \u001b[39m*\u001b[39;49m\u001b[39m*\u001b[39;49mkwargs)\n\u001b[1;32m   <a href='file:///Users/leolassarade/miniconda3/envs/ML-ll/lib/python3.9/site-packages/pandas/core/frame.py?line=4106'>4107</a>\u001b[0m \u001b[39mtry\u001b[39;00m:\n\u001b[1;32m   <a href='file:///Users/leolassarade/miniconda3/envs/ML-ll/lib/python3.9/site-packages/pandas/core/frame.py?line=4107'>4108</a>\u001b[0m     result \u001b[39m=\u001b[39m \u001b[39mself\u001b[39m\u001b[39m.\u001b[39mloc[res]\n",
      "\u001b[0;31mKeyboardInterrupt\u001b[0m: "
     ]
    }
   ],
   "source": [
    "movies_per_user = []\n",
    "\n",
    "for user in range(1, len(df_scores['userId'].unique())):\n",
    "    movies = len(df_scores.query(f\"userId == {user}\"))\n",
    "    movies_per_user.append(movies)\n",
    "\n",
    "movies_per_user\n",
    "\n"
   ]
  },
  {
   "cell_type": "code",
   "execution_count": 33,
   "metadata": {},
   "outputs": [
    {
     "name": "stdout",
     "output_type": "stream",
     "text": [
      "114 ms ± 254 µs per loop (mean ± std. dev. of 7 runs, 10 loops each)\n"
     ]
    }
   ],
   "source": [
    "\n",
    "\n",
    "#range(1, df_scores['userId'].unique())\n",
    "\n",
    "#len(df_scores['userId'].unique())\n",
    "\n",
    "#%timeit len(df_scores.query(f\"userId == 14567\"))\n",
    "\n",
    "%timeit df_scores.query(f\"userId == 14567\").shape[0]\n",
    "\n",
    "f\"userId == 14567\""
   ]
  },
  {
   "cell_type": "code",
   "execution_count": 52,
   "metadata": {},
   "outputs": [
    {
     "data": {
      "text/html": [
       "<div>\n",
       "<style scoped>\n",
       "    .dataframe tbody tr th:only-of-type {\n",
       "        vertical-align: middle;\n",
       "    }\n",
       "\n",
       "    .dataframe tbody tr th {\n",
       "        vertical-align: top;\n",
       "    }\n",
       "\n",
       "    .dataframe thead th {\n",
       "        text-align: right;\n",
       "    }\n",
       "</style>\n",
       "<table border=\"1\" class=\"dataframe\">\n",
       "  <thead>\n",
       "    <tr style=\"text-align: right;\">\n",
       "      <th></th>\n",
       "      <th>userId</th>\n",
       "    </tr>\n",
       "  </thead>\n",
       "  <tbody>\n",
       "    <tr>\n",
       "      <th>72315</th>\n",
       "      <td>32202</td>\n",
       "    </tr>\n",
       "    <tr>\n",
       "      <th>80974</th>\n",
       "      <td>9178</td>\n",
       "    </tr>\n",
       "    <tr>\n",
       "      <th>137293</th>\n",
       "      <td>8913</td>\n",
       "    </tr>\n",
       "    <tr>\n",
       "      <th>33844</th>\n",
       "      <td>7919</td>\n",
       "    </tr>\n",
       "    <tr>\n",
       "      <th>20055</th>\n",
       "      <td>7488</td>\n",
       "    </tr>\n",
       "    <tr>\n",
       "      <th>...</th>\n",
       "      <td>...</td>\n",
       "    </tr>\n",
       "    <tr>\n",
       "      <th>12094</th>\n",
       "      <td>20</td>\n",
       "    </tr>\n",
       "    <tr>\n",
       "      <th>119539</th>\n",
       "      <td>20</td>\n",
       "    </tr>\n",
       "    <tr>\n",
       "      <th>156759</th>\n",
       "      <td>20</td>\n",
       "    </tr>\n",
       "    <tr>\n",
       "      <th>12084</th>\n",
       "      <td>20</td>\n",
       "    </tr>\n",
       "    <tr>\n",
       "      <th>36207</th>\n",
       "      <td>20</td>\n",
       "    </tr>\n",
       "  </tbody>\n",
       "</table>\n",
       "<p>162541 rows × 1 columns</p>\n",
       "</div>"
      ],
      "text/plain": [
       "        userId\n",
       "72315    32202\n",
       "80974     9178\n",
       "137293    8913\n",
       "33844     7919\n",
       "20055     7488\n",
       "...        ...\n",
       "12094       20\n",
       "119539      20\n",
       "156759      20\n",
       "12084       20\n",
       "36207       20\n",
       "\n",
       "[162541 rows x 1 columns]"
      ]
     },
     "execution_count": 52,
     "metadata": {},
     "output_type": "execute_result"
    }
   ],
   "source": [
    "v = df_scores.userId.value_counts()\n",
    "df = pd.DataFrame(v)\n",
    "df"
   ]
  },
  {
   "cell_type": "code",
   "execution_count": 56,
   "metadata": {},
   "outputs": [
    {
     "data": {
      "image/png": "[encoded data removed]",
      "text/plain": [
       "<Figure size 432x288 with 1 Axes>"
      ]
     },
     "metadata": {
      "needs_background": "light"
     },
     "output_type": "display_data"
    }
   ],
   "source": [
    "import matplotlib.pyplot as plt\n",
    "import seaborn as sns\n",
    "\n",
    "sns.histplot(data = df, bins=20)\n",
    "plt.show()"
   ]
  },
  {
   "cell_type": "code",
   "execution_count": 36,
   "metadata": {},
   "outputs": [
    {
     "data": {
      "text/html": [
       "<div>\n",
       "<style scoped>\n",
       "    .dataframe tbody tr th:only-of-type {\n",
       "        vertical-align: middle;\n",
       "    }\n",
       "\n",
       "    .dataframe tbody tr th {\n",
       "        vertical-align: top;\n",
       "    }\n",
       "\n",
       "    .dataframe thead th {\n",
       "        text-align: right;\n",
       "    }\n",
       "</style>\n",
       "<table border=\"1\" class=\"dataframe\">\n",
       "  <thead>\n",
       "    <tr style=\"text-align: right;\">\n",
       "      <th></th>\n",
       "      <th>userId</th>\n",
       "      <th>movieId</th>\n",
       "      <th>rating</th>\n",
       "      <th>timestamp</th>\n",
       "    </tr>\n",
       "  </thead>\n",
       "  <tbody>\n",
       "    <tr>\n",
       "      <th>12513537</th>\n",
       "      <td>80974</td>\n",
       "      <td>1</td>\n",
       "      <td>4.0</td>\n",
       "      <td>997044423</td>\n",
       "    </tr>\n",
       "    <tr>\n",
       "      <th>12513538</th>\n",
       "      <td>80974</td>\n",
       "      <td>2</td>\n",
       "      <td>4.0</td>\n",
       "      <td>997144402</td>\n",
       "    </tr>\n",
       "    <tr>\n",
       "      <th>12513539</th>\n",
       "      <td>80974</td>\n",
       "      <td>3</td>\n",
       "      <td>3.0</td>\n",
       "      <td>997144734</td>\n",
       "    </tr>\n",
       "    <tr>\n",
       "      <th>12513540</th>\n",
       "      <td>80974</td>\n",
       "      <td>4</td>\n",
       "      <td>3.0</td>\n",
       "      <td>997146175</td>\n",
       "    </tr>\n",
       "    <tr>\n",
       "      <th>12513541</th>\n",
       "      <td>80974</td>\n",
       "      <td>5</td>\n",
       "      <td>3.0</td>\n",
       "      <td>997145617</td>\n",
       "    </tr>\n",
       "    <tr>\n",
       "      <th>...</th>\n",
       "      <td>...</td>\n",
       "      <td>...</td>\n",
       "      <td>...</td>\n",
       "      <td>...</td>\n",
       "    </tr>\n",
       "    <tr>\n",
       "      <th>12522710</th>\n",
       "      <td>80974</td>\n",
       "      <td>129514</td>\n",
       "      <td>2.5</td>\n",
       "      <td>1432073042</td>\n",
       "    </tr>\n",
       "    <tr>\n",
       "      <th>12522711</th>\n",
       "      <td>80974</td>\n",
       "      <td>135224</td>\n",
       "      <td>0.5</td>\n",
       "      <td>1450989889</td>\n",
       "    </tr>\n",
       "    <tr>\n",
       "      <th>12522712</th>\n",
       "      <td>80974</td>\n",
       "      <td>135955</td>\n",
       "      <td>3.0</td>\n",
       "      <td>1439058843</td>\n",
       "    </tr>\n",
       "    <tr>\n",
       "      <th>12522713</th>\n",
       "      <td>80974</td>\n",
       "      <td>136542</td>\n",
       "      <td>4.0</td>\n",
       "      <td>1439060065</td>\n",
       "    </tr>\n",
       "    <tr>\n",
       "      <th>12522714</th>\n",
       "      <td>80974</td>\n",
       "      <td>140265</td>\n",
       "      <td>3.0</td>\n",
       "      <td>1439056433</td>\n",
       "    </tr>\n",
       "  </tbody>\n",
       "</table>\n",
       "<p>9178 rows × 4 columns</p>\n",
       "</div>"
      ],
      "text/plain": [
       "          userId  movieId  rating   timestamp\n",
       "12513537   80974        1     4.0   997044423\n",
       "12513538   80974        2     4.0   997144402\n",
       "12513539   80974        3     3.0   997144734\n",
       "12513540   80974        4     3.0   997146175\n",
       "12513541   80974        5     3.0   997145617\n",
       "...          ...      ...     ...         ...\n",
       "12522710   80974   129514     2.5  1432073042\n",
       "12522711   80974   135224     0.5  1450989889\n",
       "12522712   80974   135955     3.0  1439058843\n",
       "12522713   80974   136542     4.0  1439060065\n",
       "12522714   80974   140265     3.0  1439056433\n",
       "\n",
       "[9178 rows x 4 columns]"
      ]
     },
     "execution_count": 36,
     "metadata": {},
     "output_type": "execute_result"
    }
   ],
   "source": [
    "df_scores.query(\"userId == 80974\")"
   ]
  },
  {
   "cell_type": "markdown",
   "metadata": {},
   "source": [
    "is it realistic that an user has seen more than 2000 movies ?"
   ]
  }
 ],
 "metadata": {
  "interpreter": {
   "hash": "75feb5489d5c2e96eb2dccc363e8724abde0acaaac398a66f30ecdc789342b4f"
  },
  "kernelspec": {
   "display_name": "Python 3.9.7 ('ML-ll')",
   "language": "python",
   "name": "python3"
  },
  "language_info": {
   "codemirror_mode": {
    "name": "ipython",
    "version": 3
   },
   "file_extension": ".py",
   "mimetype": "text/x-python",
   "name": "python",
   "nbconvert_exporter": "python",
   "pygments_lexer": "ipython3",
   "version": "3.9.7"
  },
  "orig_nbformat": 4
 },
 "nbformat": 4,
 "nbformat_minor": 2
}
